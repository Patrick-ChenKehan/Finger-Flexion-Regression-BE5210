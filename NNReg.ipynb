{
 "cells": [
  {
   "cell_type": "code",
   "execution_count": 202,
   "metadata": {},
   "outputs": [],
   "source": [
    "import numpy as np\n",
    "from sklearn.metrics import roc_auc_score, precision_score, recall_score, accuracy_score\n",
    "import torch\n",
    "import torch.nn as nn\n",
    "import torch.optim as optim\n",
    "from torch.autograd import Variable\n",
    "import torch.nn.functional as F\n",
    "import torch.optim as optim\n",
    "import scipy\n",
    "import scipy.io\n",
    "import matplotlib.pyplot as plt\n",
    "import random\n",
    "import pickle\n",
    "from torch.utils.data import Dataset, DataLoader\n",
    "import scipy.signal as sig\n",
    "from scipy.stats import pearsonr\n",
    "from utils import *"
   ]
  },
  {
   "cell_type": "code",
   "execution_count": 203,
   "metadata": {},
   "outputs": [
    {
     "data": {
      "text/plain": [
       "device(type='cuda', index=0)"
      ]
     },
     "execution_count": 203,
     "metadata": {},
     "output_type": "execute_result"
    }
   ],
   "source": [
    "device = torch.device(0)\n",
    "device"
   ]
  },
  {
   "cell_type": "code",
   "execution_count": 204,
   "metadata": {},
   "outputs": [],
   "source": [
    "raw = scipy.io.loadmat('./datasets/raw_training_data.mat')\n",
    "data_glove_1 = raw['train_dg'][0][0]\n",
    "data_glove_1_train = np.delete(data_glove_1, 3, 1)\n",
    "data_glove_2 = raw['train_dg'][1][0]\n",
    "data_glove_2_train = np.delete(data_glove_2, 3, 1)\n",
    "data_glove_3 = raw['train_dg'][2][0]\n",
    "data_glove_3_train = np.delete(data_glove_3, 3, 1)\n",
    "\n",
    "ecog_1_train = raw['train_ecog'][0][0]\n",
    "ecog_2_train = raw['train_ecog'][1][0]\n",
    "ecog_3_train = raw['train_ecog'][2][0]\n",
    "\n",
    "\n",
    "raw = scipy.io.loadmat('./datasets/sub1_comp.mat')\n",
    "ecog_1_comp = raw['train_data']\n",
    "dg_1_comp = raw['train_dg']\n",
    "ecog_1_valid = raw['test_data'][49000:]\n",
    "\n",
    "raw = scipy.io.loadmat('./datasets/sub2_comp.mat')\n",
    "ecog_2_comp = raw['train_data']\n",
    "dg_2_comp = raw['train_dg']\n",
    "ecog_2_valid = raw['test_data'][49000:]\n",
    "\n",
    "raw = scipy.io.loadmat('./datasets/sub3_comp.mat')\n",
    "ecog_3_comp = raw['train_data']\n",
    "dg_3_comp = raw['train_dg']\n",
    "ecog_3_valid = raw['test_data'][49000:]\n",
    "\n",
    "dg_1_raw = scipy.io.loadmat('./datasets/sub1_testlabels.mat')\n",
    "dg_1_valid = dg_1_raw['test_dg'][49000:]\n",
    "dg_1_valid = np.delete(dg_1_valid, 3, 1)\n",
    "\n",
    "dg_2_raw = scipy.io.loadmat('./datasets/sub2_testlabels.mat')\n",
    "dg_2_valid = dg_2_raw['test_dg'][49000:]\n",
    "dg_2_valid = np.delete(dg_2_valid, 3, 1)\n",
    "\n",
    "dg_3_raw = scipy.io.loadmat('./datasets/sub3_testlabels.mat')\n",
    "dg_3_valid = dg_3_raw['test_dg'][49000:]\n",
    "dg_3_valid = np.delete(dg_3_valid, 3, 1)"
   ]
  },
  {
   "cell_type": "code",
   "execution_count": 214,
   "metadata": {},
   "outputs": [],
   "source": [
    "winLen = 100 / 1e3\n",
    "winOverlap = 50 / 1e3\n",
    "winDisp = winLen - winOverlap"
   ]
  },
  {
   "cell_type": "code",
   "execution_count": 206,
   "metadata": {},
   "outputs": [],
   "source": [
    "class FingerFeatureDataset(Dataset):\n",
    "    def __init__(self, R, dg, window=2000):\n",
    "        self.R = np.float32(R + np.random.normal(0,0.1, R.shape))\n",
    "#         self.R = (self.R - ecog_1_train.mean(axis=0)) / ecog_1_train.std(axis=0)\n",
    "#         self.ecog = self.ecog.reshape(self.ecog.shape[0], 1, -1)\n",
    "        self.dg = np.float32(dg)\n",
    "        \n",
    "    \n",
    "\n",
    "    def __len__(self):\n",
    "        return len(self.R)\n",
    "\n",
    "    def __getitem__(self, idx):\n",
    "        \n",
    "        return self.R[idx], self.dg[idx]"
   ]
  },
  {
   "cell_type": "code",
   "execution_count": 216,
   "metadata": {},
   "outputs": [],
   "source": [
    "def moving_average(x, winLen, winDisp):\n",
    "    result = []\n",
    "    for i in range(NumWins(x, 1000, winLen, winDisp)):\n",
    "        result.append(x[i * int(winDisp * 1000):i * int(winDisp * 1000) + int(winLen * 1000)].mean(axis=0))\n",
    "    return np.array(result)"
   ]
  },
  {
   "cell_type": "code",
   "execution_count": 279,
   "metadata": {},
   "outputs": [
    {
     "name": "stderr",
     "output_type": "stream",
     "text": [
      "/opt/conda/envs/pytorch/lib/python3.9/site-packages/scipy/signal/_spectral_py.py:2014: UserWarning: nperseg = 256 is greater than input length  = 62, using nperseg = 62\n",
      "  warnings.warn('nperseg = {0:d} is greater than input length '\n",
      "/opt/conda/envs/pytorch/lib/python3.9/site-packages/sklearn/feature_selection/_univariate_selection.py:289: RuntimeWarning: divide by zero encountered in divide\n",
      "  correlation_coefficient /= X_norms\n",
      "/opt/conda/envs/pytorch/lib/python3.9/site-packages/sklearn/feature_selection/_univariate_selection.py:289: RuntimeWarning: invalid value encountered in divide\n",
      "  correlation_coefficient /= X_norms\n",
      "/opt/conda/envs/pytorch/lib/python3.9/site-packages/sklearn/feature_selection/_univariate_selection.py:358: RuntimeWarning: invalid value encountered in divide\n",
      "  f_statistic = corr_coef_squared / (1 - corr_coef_squared) * deg_of_freedom\n",
      "/opt/conda/envs/pytorch/lib/python3.9/site-packages/sklearn/feature_selection/_univariate_selection.py:289: RuntimeWarning: divide by zero encountered in divide\n",
      "  correlation_coefficient /= X_norms\n",
      "/opt/conda/envs/pytorch/lib/python3.9/site-packages/sklearn/feature_selection/_univariate_selection.py:289: RuntimeWarning: invalid value encountered in divide\n",
      "  correlation_coefficient /= X_norms\n",
      "/opt/conda/envs/pytorch/lib/python3.9/site-packages/sklearn/feature_selection/_univariate_selection.py:358: RuntimeWarning: invalid value encountered in divide\n",
      "  f_statistic = corr_coef_squared / (1 - corr_coef_squared) * deg_of_freedom\n",
      "/opt/conda/envs/pytorch/lib/python3.9/site-packages/sklearn/feature_selection/_univariate_selection.py:289: RuntimeWarning: divide by zero encountered in divide\n",
      "  correlation_coefficient /= X_norms\n",
      "/opt/conda/envs/pytorch/lib/python3.9/site-packages/sklearn/feature_selection/_univariate_selection.py:289: RuntimeWarning: invalid value encountered in divide\n",
      "  correlation_coefficient /= X_norms\n",
      "/opt/conda/envs/pytorch/lib/python3.9/site-packages/sklearn/feature_selection/_univariate_selection.py:358: RuntimeWarning: invalid value encountered in divide\n",
      "  f_statistic = corr_coef_squared / (1 - corr_coef_squared) * deg_of_freedom\n"
     ]
    },
    {
     "name": "stdout",
     "output_type": "stream",
     "text": [
      "(617,)\n"
     ]
    },
    {
     "name": "stderr",
     "output_type": "stream",
     "text": [
      "/opt/conda/envs/pytorch/lib/python3.9/site-packages/sklearn/feature_selection/_univariate_selection.py:289: RuntimeWarning: divide by zero encountered in divide\n",
      "  correlation_coefficient /= X_norms\n",
      "/opt/conda/envs/pytorch/lib/python3.9/site-packages/sklearn/feature_selection/_univariate_selection.py:289: RuntimeWarning: invalid value encountered in divide\n",
      "  correlation_coefficient /= X_norms\n",
      "/opt/conda/envs/pytorch/lib/python3.9/site-packages/sklearn/feature_selection/_univariate_selection.py:358: RuntimeWarning: invalid value encountered in divide\n",
      "  f_statistic = corr_coef_squared / (1 - corr_coef_squared) * deg_of_freedom\n"
     ]
    }
   ],
   "source": [
    "# Compute the R matrix for the training data\n",
    "feature_train = get_windowed_feats(ecog_1_train, 1000, winLen, winOverlap)\n",
    "# R_train = create_R_matrix(feature_train, 5)\n",
    "\n",
    "feature_test = get_windowed_feats(ecog_1_valid, 1000, winLen, winOverlap)\n",
    "# R_test = create_R_matrix(feature_test, 5)\n",
    "\n",
    "# Downsample the glove data\n",
    "Y_train = data_glove_1_train\n",
    "Y_test = dg_1_valid\n",
    "Y_train = moving_average(Y_train, winLen, winDisp)\n",
    "Y_test = moving_average(Y_test, winLen, winDisp)\n",
    "\n",
    "R_train = create_R_matrix(feature_train, 20)\n",
    "R_test = create_R_matrix(feature_test, 20)\n",
    "\n",
    "idx_1 = feature_selection(R_train, Y_train, 800)\n",
    "print(idx_1.shape)\n",
    "\n",
    "R_train = R_train[:, idx_1]\n",
    "train_mean_S1 = R_train.mean(axis=0)\n",
    "train_std_S1 = R_train.std(axis=0)\n",
    "R_train = (R_train - train_mean_S1) / train_std_S1\n",
    "R_test = R_test[:, idx_1]\n",
    "R_test = (R_test - train_mean_S1) / train_std_S1"
   ]
  },
  {
   "cell_type": "code",
   "execution_count": 287,
   "metadata": {},
   "outputs": [
    {
     "data": {
      "text/plain": [
       "(617,)"
      ]
     },
     "execution_count": 287,
     "metadata": {},
     "output_type": "execute_result"
    }
   ],
   "source": [
    "train_mean_S1.shape"
   ]
  },
  {
   "cell_type": "code",
   "execution_count": 281,
   "metadata": {},
   "outputs": [],
   "source": [
    "dataset_s1_train = FingerFeatureDataset(R_train.copy(), Y_train.copy())\n",
    "dataset_s1_valid = FingerFeatureDataset(R_test.copy(), Y_test.copy())\n",
    "\n",
    "train_loader = DataLoader(dataset_s1_train, batch_size=16, shuffle=False)\n",
    "test_loader = DataLoader(dataset_s1_valid, batch_size=16, shuffle=False)"
   ]
  },
  {
   "cell_type": "code",
   "execution_count": 282,
   "metadata": {},
   "outputs": [],
   "source": [
    "class FingerRegressor(nn.Module):\n",
    "    def __init__(self, num_features, num_fingers) -> None:\n",
    "        super(FingerRegressor, self).__init__()\n",
    "        \n",
    "        self.fc1 = nn.Linear(num_features, 16)\n",
    "        self.fc2 = nn.Linear(16, 8)\n",
    "        self.fc3 = nn.Linear(8, num_fingers)\n",
    "        self.relu = nn.ReLU()\n",
    "        \n",
    "        nn.init.xavier_normal_(self.fc1.weight)\n",
    "        nn.init.xavier_normal_(self.fc2.weight)\n",
    "        nn.init.xavier_normal_(self.fc3.weight)\n",
    "\n",
    "        self.dropout1 = nn.Dropout(0.4)\n",
    "        self.dropout2 = nn.Dropout(0.15)\n",
    "        \n",
    "    def forward(self, x):\n",
    "        x = self.dropout1(x)\n",
    "        x = self.relu(self.fc1(x))\n",
    "        \n",
    "        x = self.dropout2(x)\n",
    "        x = self.relu(self.fc2(x))\n",
    "        x = self.dropout2(x)\n",
    "        output = self.fc3(x)\n",
    "\n",
    "        \n",
    "        return output"
   ]
  },
  {
   "cell_type": "code",
   "execution_count": 285,
   "metadata": {},
   "outputs": [
    {
     "name": "stdout",
     "output_type": "stream",
     "text": [
      "Epoch 1 | Train loss: 1.503 | Train Cor: 0.099 | Valid loss: 0.926 | Valid Cor: 0.2675346607852328\n",
      "Epoch 2 | Train loss: 0.881 | Train Cor: 0.234 | Valid loss: 0.835 | Valid Cor: 0.3458443107226765\n",
      "Epoch 3 | Train loss: 0.801 | Train Cor: 0.296 | Valid loss: 0.810 | Valid Cor: 0.3755083202830025\n",
      "Epoch 4 | Train loss: 0.752 | Train Cor: 0.337 | Valid loss: 0.789 | Valid Cor: 0.39684142499716446\n",
      "Epoch 5 | Train loss: 0.719 | Train Cor: 0.373 | Valid loss: 0.769 | Valid Cor: 0.42615429974301683\n",
      "Epoch 6 | Train loss: 0.707 | Train Cor: 0.394 | Valid loss: 0.768 | Valid Cor: 0.4404668158731721\n",
      "Epoch 7 | Train loss: 0.680 | Train Cor: 0.417 | Valid loss: 0.759 | Valid Cor: 0.4542220340829953\n",
      "Epoch 8 | Train loss: 0.660 | Train Cor: 0.444 | Valid loss: 0.752 | Valid Cor: 0.47623414055119656\n",
      "Epoch 9 | Train loss: 0.654 | Train Cor: 0.452 | Valid loss: 0.752 | Valid Cor: 0.47671048577869957\n",
      "Epoch 10 | Train loss: 0.626 | Train Cor: 0.478 | Valid loss: 0.746 | Valid Cor: 0.4921974244010766\n",
      "Epoch 11 | Train loss: 0.622 | Train Cor: 0.485 | Valid loss: 0.741 | Valid Cor: 0.49456622351740326\n",
      "Epoch 12 | Train loss: 0.609 | Train Cor: 0.496 | Valid loss: 0.730 | Valid Cor: 0.4980941606210196\n",
      "Epoch 13 | Train loss: 0.593 | Train Cor: 0.517 | Valid loss: 0.729 | Valid Cor: 0.5142780287732152\n",
      "Epoch 14 | Train loss: 0.588 | Train Cor: 0.526 | Valid loss: 0.727 | Valid Cor: 0.5201263890642369\n",
      "Epoch 15 | Train loss: 0.571 | Train Cor: 0.537 | Valid loss: 0.733 | Valid Cor: 0.512254873527154\n",
      "Epoch 16 | Train loss: 0.560 | Train Cor: 0.550 | Valid loss: 0.712 | Valid Cor: 0.5322334204089446\n",
      "Epoch 17 | Train loss: 0.558 | Train Cor: 0.552 | Valid loss: 0.732 | Valid Cor: 0.5277900153020302\n",
      "Epoch 18 | Train loss: 0.549 | Train Cor: 0.559 | Valid loss: 0.715 | Valid Cor: 0.522852693541618\n",
      "Epoch 19 | Train loss: 0.547 | Train Cor: 0.563 | Valid loss: 0.716 | Valid Cor: 0.5306907128957328\n",
      "Epoch 20 | Train loss: 0.544 | Train Cor: 0.568 | Valid loss: 0.711 | Valid Cor: 0.5324533201848014\n",
      "Epoch 21 | Train loss: 0.540 | Train Cor: 0.569 | Valid loss: 0.713 | Valid Cor: 0.533736927835834\n",
      "Epoch 22 | Train loss: 0.530 | Train Cor: 0.577 | Valid loss: 0.703 | Valid Cor: 0.5360107683799673\n",
      "Epoch 23 | Train loss: 0.536 | Train Cor: 0.567 | Valid loss: 0.718 | Valid Cor: 0.5309496378420289\n",
      "Epoch 24 | Train loss: 0.531 | Train Cor: 0.578 | Valid loss: 0.724 | Valid Cor: 0.528537706882316\n",
      "Epoch 25 | Train loss: 0.537 | Train Cor: 0.575 | Valid loss: 0.702 | Valid Cor: 0.5380379948934834\n",
      "Epoch 26 | Train loss: 0.522 | Train Cor: 0.582 | Valid loss: 0.727 | Valid Cor: 0.525477863989714\n",
      "Epoch 27 | Train loss: 0.511 | Train Cor: 0.599 | Valid loss: 0.714 | Valid Cor: 0.524945171538105\n",
      "Epoch 28 | Train loss: 0.514 | Train Cor: 0.595 | Valid loss: 0.726 | Valid Cor: 0.5245030824614179\n",
      "Epoch 29 | Train loss: 0.519 | Train Cor: 0.590 | Valid loss: 0.718 | Valid Cor: 0.5253886868400343\n",
      "Epoch 30 | Train loss: 0.524 | Train Cor: 0.588 | Valid loss: 0.715 | Valid Cor: 0.5299086140810304\n",
      "Epoch 31 | Train loss: 0.508 | Train Cor: 0.599 | Valid loss: 0.716 | Valid Cor: 0.5267844940957482\n",
      "Epoch 32 | Train loss: 0.510 | Train Cor: 0.597 | Valid loss: 0.718 | Valid Cor: 0.5251491204807096\n",
      "Epoch 33 | Train loss: 0.517 | Train Cor: 0.589 | Valid loss: 0.716 | Valid Cor: 0.5246863245335933\n",
      "Epoch 34 | Train loss: 0.501 | Train Cor: 0.604 | Valid loss: 0.720 | Valid Cor: 0.5299538339813984\n",
      "Epoch 35 | Train loss: 0.511 | Train Cor: 0.602 | Valid loss: 0.713 | Valid Cor: 0.5345833856186885\n",
      "Epoch 36 | Train loss: 0.498 | Train Cor: 0.606 | Valid loss: 0.714 | Valid Cor: 0.536195549320392\n",
      "Epoch 37 | Train loss: 0.510 | Train Cor: 0.598 | Valid loss: 0.708 | Valid Cor: 0.5371557041282409\n",
      "Epoch 38 | Train loss: 0.496 | Train Cor: 0.612 | Valid loss: 0.708 | Valid Cor: 0.5375481254112515\n",
      "Epoch 39 | Train loss: 0.498 | Train Cor: 0.606 | Valid loss: 0.721 | Valid Cor: 0.5395487848203259\n",
      "Epoch 40 | Train loss: 0.504 | Train Cor: 0.608 | Valid loss: 0.712 | Valid Cor: 0.5303579081893253\n",
      "Epoch 41 | Train loss: 0.493 | Train Cor: 0.609 | Valid loss: 0.720 | Valid Cor: 0.5436325486008433\n",
      "Epoch 42 | Train loss: 0.495 | Train Cor: 0.611 | Valid loss: 0.714 | Valid Cor: 0.541185995790675\n",
      "Epoch 43 | Train loss: 0.490 | Train Cor: 0.616 | Valid loss: 0.712 | Valid Cor: 0.54596817514582\n",
      "Epoch 44 | Train loss: 0.497 | Train Cor: 0.608 | Valid loss: 0.717 | Valid Cor: 0.5410209769738061\n",
      "Epoch 45 | Train loss: 0.490 | Train Cor: 0.614 | Valid loss: 0.724 | Valid Cor: 0.5390871644291684\n",
      "Epoch 46 | Train loss: 0.491 | Train Cor: 0.615 | Valid loss: 0.716 | Valid Cor: 0.5405384599151425\n",
      "Epoch 47 | Train loss: 0.491 | Train Cor: 0.615 | Valid loss: 0.710 | Valid Cor: 0.5496644500639221\n",
      "Epoch 48 | Train loss: 0.487 | Train Cor: 0.617 | Valid loss: 0.718 | Valid Cor: 0.5395732358686741\n",
      "Epoch 49 | Train loss: 0.487 | Train Cor: 0.621 | Valid loss: 0.714 | Valid Cor: 0.5351031771929416\n",
      "Epoch 50 | Train loss: 0.492 | Train Cor: 0.614 | Valid loss: 0.704 | Valid Cor: 0.5478332022795964\n"
     ]
    }
   ],
   "source": [
    "net = FingerRegressor(R_train.shape[1], 4).to(device)\n",
    "criterion = nn.MSELoss()\n",
    "optimizer = optim.Adam(net.parameters())\n",
    "\n",
    "\n",
    "for epoch in range(50):  # loop over the dataset multiple times\n",
    "    net.train()\n",
    "    running_loss = 0.0\n",
    "    correct = 0\n",
    "    total = 0\n",
    "    pred = []\n",
    "    for (i, (ecog, dg)) in enumerate(train_loader):\n",
    "        # print(ecog.shape)\n",
    "        ecog = ecog.to(device)\n",
    "        dg = dg.to(device)\n",
    "        output = net(ecog)\n",
    "        pred += [output.detach().cpu().numpy()]\n",
    "        loss = criterion(output, dg)\n",
    "        # print (loss)\n",
    "        optimizer.zero_grad()\n",
    "        loss.backward()\n",
    "        optimizer.step()\n",
    "        running_loss += loss.item()\n",
    "\n",
    "    pred = np.concatenate(pred)\n",
    "    train_cor = correlation_dl(sig.resample(pred, len(data_glove_1_train)), data_glove_1_train)[1]\n",
    "    train_loss = running_loss / len(train_loader)\n",
    "    # train_acc = correct / total\n",
    "    \n",
    "    net.eval()\n",
    "    with torch.no_grad():\n",
    "        running_loss = 0.0\n",
    "        correct = 0\n",
    "        total = 0\n",
    "        pred = []\n",
    "        for (i, (ecog, dg)) in enumerate(test_loader):\n",
    "            ecog = ecog.to(device)\n",
    "            dg = dg.to(device)\n",
    "            output = net(ecog).to(device)\n",
    "            pred += [output.detach().cpu().numpy()]\n",
    "            loss = criterion(output, dg)\n",
    "            running_loss += loss.item()\n",
    "\n",
    "        pred = np.concatenate(pred)\n",
    "        val_cor = correlation_dl(sig.resample(pred, len(dg_1_valid)), dg_1_valid)[1]\n",
    "        \n",
    "        valid_loss = running_loss / len(test_loader)\n",
    "    # print(f'Epoch {epoch + 1} | Train loss: {train_loss:.3f} | Train Acc: {train_acc:.3f} | Valid loss: {valid_loss:.3f} | Valid Acc: {val_cor}')\n",
    "    print(f'Epoch {epoch + 1} | Train loss: {train_loss:.3f} | Train Cor: {train_cor:.3f} | Valid loss: {valid_loss:.3f} | Valid Cor: {val_cor}')\n",
    "    # break"
   ]
  },
  {
   "cell_type": "code",
   "execution_count": 288,
   "metadata": {},
   "outputs": [],
   "source": [
    "np.save('./models/train_mean_S1', train_mean_S1)\n",
    "np.save('./models/train_std_S1', train_std_S1)\n",
    "torch.save(net.state_dict(), './models/NN_S1.pth')"
   ]
  },
  {
   "cell_type": "code",
   "execution_count": 290,
   "metadata": {},
   "outputs": [
    {
     "data": {
      "text/plain": [
       "(617,)"
      ]
     },
     "execution_count": 290,
     "metadata": {},
     "output_type": "execute_result"
    }
   ],
   "source": [
    "np.load('./models/train_mean_S1.npy').shape"
   ]
  },
  {
   "cell_type": "code",
   "execution_count": 291,
   "metadata": {},
   "outputs": [
    {
     "name": "stderr",
     "output_type": "stream",
     "text": [
      "/opt/conda/envs/pytorch/lib/python3.9/site-packages/scipy/signal/_spectral_py.py:2014: UserWarning: nperseg = 256 is greater than input length  = 48, using nperseg = 48\n",
      "  warnings.warn('nperseg = {0:d} is greater than input length '\n",
      "/opt/conda/envs/pytorch/lib/python3.9/site-packages/sklearn/feature_selection/_univariate_selection.py:289: RuntimeWarning: divide by zero encountered in divide\n",
      "  correlation_coefficient /= X_norms\n",
      "/opt/conda/envs/pytorch/lib/python3.9/site-packages/sklearn/feature_selection/_univariate_selection.py:289: RuntimeWarning: invalid value encountered in divide\n",
      "  correlation_coefficient /= X_norms\n",
      "/opt/conda/envs/pytorch/lib/python3.9/site-packages/sklearn/feature_selection/_univariate_selection.py:358: RuntimeWarning: invalid value encountered in divide\n",
      "  f_statistic = corr_coef_squared / (1 - corr_coef_squared) * deg_of_freedom\n",
      "/opt/conda/envs/pytorch/lib/python3.9/site-packages/sklearn/feature_selection/_univariate_selection.py:289: RuntimeWarning: divide by zero encountered in divide\n",
      "  correlation_coefficient /= X_norms\n",
      "/opt/conda/envs/pytorch/lib/python3.9/site-packages/sklearn/feature_selection/_univariate_selection.py:289: RuntimeWarning: invalid value encountered in divide\n",
      "  correlation_coefficient /= X_norms\n",
      "/opt/conda/envs/pytorch/lib/python3.9/site-packages/sklearn/feature_selection/_univariate_selection.py:358: RuntimeWarning: invalid value encountered in divide\n",
      "  f_statistic = corr_coef_squared / (1 - corr_coef_squared) * deg_of_freedom\n",
      "/opt/conda/envs/pytorch/lib/python3.9/site-packages/sklearn/feature_selection/_univariate_selection.py:289: RuntimeWarning: divide by zero encountered in divide\n",
      "  correlation_coefficient /= X_norms\n",
      "/opt/conda/envs/pytorch/lib/python3.9/site-packages/sklearn/feature_selection/_univariate_selection.py:289: RuntimeWarning: invalid value encountered in divide\n",
      "  correlation_coefficient /= X_norms\n",
      "/opt/conda/envs/pytorch/lib/python3.9/site-packages/sklearn/feature_selection/_univariate_selection.py:358: RuntimeWarning: invalid value encountered in divide\n",
      "  f_statistic = corr_coef_squared / (1 - corr_coef_squared) * deg_of_freedom\n"
     ]
    },
    {
     "name": "stdout",
     "output_type": "stream",
     "text": [
      "(551,)\n"
     ]
    },
    {
     "name": "stderr",
     "output_type": "stream",
     "text": [
      "/opt/conda/envs/pytorch/lib/python3.9/site-packages/sklearn/feature_selection/_univariate_selection.py:289: RuntimeWarning: divide by zero encountered in divide\n",
      "  correlation_coefficient /= X_norms\n",
      "/opt/conda/envs/pytorch/lib/python3.9/site-packages/sklearn/feature_selection/_univariate_selection.py:289: RuntimeWarning: invalid value encountered in divide\n",
      "  correlation_coefficient /= X_norms\n",
      "/opt/conda/envs/pytorch/lib/python3.9/site-packages/sklearn/feature_selection/_univariate_selection.py:358: RuntimeWarning: invalid value encountered in divide\n",
      "  f_statistic = corr_coef_squared / (1 - corr_coef_squared) * deg_of_freedom\n"
     ]
    }
   ],
   "source": [
    "# Compute the R matrix for the training data\n",
    "feature_train = get_windowed_feats(ecog_2_train, 1000, winLen, winOverlap)\n",
    "# R_train = create_R_matrix(feature_train, 5)\n",
    "\n",
    "feature_test = get_windowed_feats(ecog_2_valid, 1000, winLen, winOverlap)\n",
    "# R_test = create_R_matrix(feature_test, 5)\n",
    "\n",
    "# Downsample the glove data\n",
    "Y_train = data_glove_2_train\n",
    "Y_test = dg_2_valid\n",
    "Y_train = moving_average(Y_train, winLen, winDisp)\n",
    "Y_test = moving_average(Y_test, winLen, winDisp)\n",
    "# Y_train = sig.resample(Y_train, feature_train.shape[0], axis=0)\n",
    "# Y_test = sig.resample(Y_test, feature_test.shape[0], axis=0)\n",
    "\n",
    "R_train = create_R_matrix(feature_train, 20)\n",
    "R_test = create_R_matrix(feature_test, 20)\n",
    "\n",
    "idx_2 = feature_selection(R_train, Y_train, 800)\n",
    "print(idx_2.shape)\n",
    "\n",
    "R_train = R_train[:, idx_2]\n",
    "train_mean_S2 = R_train.mean(axis=0)\n",
    "train_std_S2 = R_train.std(axis=0)\n",
    "R_train = (R_train - train_mean_S2) / train_std_S2\n",
    "R_test = R_test[:, idx_2]\n",
    "R_test = (R_test - train_mean_S2) / train_std_S2"
   ]
  },
  {
   "cell_type": "code",
   "execution_count": 292,
   "metadata": {},
   "outputs": [],
   "source": [
    "dataset_s2_train = FingerFeatureDataset(R_train.copy(), Y_train.copy())\n",
    "dataset_s2_valid = FingerFeatureDataset(R_test.copy(), Y_test.copy())\n",
    "\n",
    "train_loader = DataLoader(dataset_s2_train, batch_size=16, shuffle=False)\n",
    "test_loader = DataLoader(dataset_s2_valid, batch_size=16, shuffle=False)"
   ]
  },
  {
   "cell_type": "code",
   "execution_count": null,
   "metadata": {},
   "outputs": [
    {
     "name": "stdout",
     "output_type": "stream",
     "text": [
      "Epoch 1 | Train loss: 1.240 | Train Cor: 0.022 | Valid loss: 0.887 | Valid Cor: 0.12006371967436791\n",
      "Epoch 2 | Train loss: 0.890 | Train Cor: 0.139 | Valid loss: 0.860 | Valid Cor: 0.1920142897589714\n",
      "Epoch 3 | Train loss: 0.849 | Train Cor: 0.199 | Valid loss: 0.847 | Valid Cor: 0.25532671787720157\n",
      "Epoch 4 | Train loss: 0.818 | Train Cor: 0.255 | Valid loss: 0.807 | Valid Cor: 0.3305694561753006\n",
      "Epoch 5 | Train loss: 0.774 | Train Cor: 0.333 | Valid loss: 0.779 | Valid Cor: 0.37676357936190835\n",
      "Epoch 6 | Train loss: 0.741 | Train Cor: 0.395 | Valid loss: 0.747 | Valid Cor: 0.42093487698794807\n",
      "Epoch 7 | Train loss: 0.702 | Train Cor: 0.443 | Valid loss: 0.709 | Valid Cor: 0.45280104343304795\n",
      "Epoch 8 | Train loss: 0.678 | Train Cor: 0.472 | Valid loss: 0.701 | Valid Cor: 0.4598256062524244\n",
      "Epoch 9 | Train loss: 0.666 | Train Cor: 0.489 | Valid loss: 0.685 | Valid Cor: 0.47834449300979126\n",
      "Epoch 10 | Train loss: 0.633 | Train Cor: 0.521 | Valid loss: 0.678 | Valid Cor: 0.4836669006163831\n",
      "Epoch 11 | Train loss: 0.606 | Train Cor: 0.549 | Valid loss: 0.692 | Valid Cor: 0.4832214786164354\n",
      "Epoch 12 | Train loss: 0.602 | Train Cor: 0.555 | Valid loss: 0.672 | Valid Cor: 0.48996256139963795\n",
      "Epoch 13 | Train loss: 0.596 | Train Cor: 0.561 | Valid loss: 0.680 | Valid Cor: 0.49075115737074426\n",
      "Epoch 14 | Train loss: 0.575 | Train Cor: 0.579 | Valid loss: 0.689 | Valid Cor: 0.48800877594881625\n",
      "Epoch 15 | Train loss: 0.567 | Train Cor: 0.584 | Valid loss: 0.686 | Valid Cor: 0.4924578563280816\n",
      "Epoch 16 | Train loss: 0.556 | Train Cor: 0.597 | Valid loss: 0.679 | Valid Cor: 0.48757027356476\n",
      "Epoch 17 | Train loss: 0.567 | Train Cor: 0.588 | Valid loss: 0.695 | Valid Cor: 0.4873647172732264\n",
      "Epoch 18 | Train loss: 0.555 | Train Cor: 0.600 | Valid loss: 0.683 | Valid Cor: 0.49065538483471954\n",
      "Epoch 19 | Train loss: 0.549 | Train Cor: 0.602 | Valid loss: 0.676 | Valid Cor: 0.48855265482089094\n",
      "Epoch 20 | Train loss: 0.533 | Train Cor: 0.620 | Valid loss: 0.667 | Valid Cor: 0.5015054374216217\n",
      "Epoch 21 | Train loss: 0.531 | Train Cor: 0.624 | Valid loss: 0.687 | Valid Cor: 0.48193110908935066\n",
      "Epoch 22 | Train loss: 0.529 | Train Cor: 0.625 | Valid loss: 0.666 | Valid Cor: 0.4932952444989176\n",
      "Epoch 23 | Train loss: 0.522 | Train Cor: 0.627 | Valid loss: 0.676 | Valid Cor: 0.4875259271273068\n",
      "Epoch 24 | Train loss: 0.529 | Train Cor: 0.622 | Valid loss: 0.684 | Valid Cor: 0.4958995496692042\n",
      "Epoch 25 | Train loss: 0.502 | Train Cor: 0.643 | Valid loss: 0.674 | Valid Cor: 0.4914853332574922\n",
      "Epoch 26 | Train loss: 0.508 | Train Cor: 0.640 | Valid loss: 0.684 | Valid Cor: 0.4914419316859666\n",
      "Epoch 27 | Train loss: 0.496 | Train Cor: 0.644 | Valid loss: 0.669 | Valid Cor: 0.5001308616162765\n",
      "Epoch 28 | Train loss: 0.484 | Train Cor: 0.663 | Valid loss: 0.667 | Valid Cor: 0.49457391219240665\n",
      "Epoch 29 | Train loss: 0.498 | Train Cor: 0.646 | Valid loss: 0.670 | Valid Cor: 0.4933660756631556\n",
      "Epoch 30 | Train loss: 0.492 | Train Cor: 0.653 | Valid loss: 0.668 | Valid Cor: 0.4988594425219391\n",
      "Epoch 31 | Train loss: 0.495 | Train Cor: 0.647 | Valid loss: 0.674 | Valid Cor: 0.4957819362928519\n",
      "Epoch 32 | Train loss: 0.499 | Train Cor: 0.641 | Valid loss: 0.689 | Valid Cor: 0.487939448510746\n",
      "Epoch 33 | Train loss: 0.483 | Train Cor: 0.657 | Valid loss: 0.681 | Valid Cor: 0.500523838357493\n",
      "Epoch 34 | Train loss: 0.490 | Train Cor: 0.650 | Valid loss: 0.688 | Valid Cor: 0.4900305748041464\n",
      "Epoch 35 | Train loss: 0.491 | Train Cor: 0.653 | Valid loss: 0.682 | Valid Cor: 0.490338650578626\n",
      "Epoch 36 | Train loss: 0.488 | Train Cor: 0.657 | Valid loss: 0.680 | Valid Cor: 0.4917425897625789\n",
      "Epoch 37 | Train loss: 0.479 | Train Cor: 0.656 | Valid loss: 0.681 | Valid Cor: 0.49409937924222547\n",
      "Epoch 38 | Train loss: 0.465 | Train Cor: 0.674 | Valid loss: 0.677 | Valid Cor: 0.49954178247386694\n",
      "Epoch 39 | Train loss: 0.471 | Train Cor: 0.672 | Valid loss: 0.659 | Valid Cor: 0.505683898276536\n",
      "Epoch 40 | Train loss: 0.469 | Train Cor: 0.667 | Valid loss: 0.678 | Valid Cor: 0.4981181594333215\n",
      "Epoch 41 | Train loss: 0.483 | Train Cor: 0.659 | Valid loss: 0.682 | Valid Cor: 0.5000481760433917\n",
      "Epoch 42 | Train loss: 0.474 | Train Cor: 0.667 | Valid loss: 0.666 | Valid Cor: 0.5106974250926002\n",
      "Epoch 43 | Train loss: 0.471 | Train Cor: 0.666 | Valid loss: 0.675 | Valid Cor: 0.4990847588193411\n",
      "Epoch 44 | Train loss: 0.460 | Train Cor: 0.676 | Valid loss: 0.670 | Valid Cor: 0.5147265871655795\n"
     ]
    }
   ],
   "source": [
    "net = FingerRegressor(R_train.shape[1], 4).to(device)\n",
    "\n",
    "criterion = nn.MSELoss()\n",
    "optimizer = optim.Adam(net.parameters())\n",
    "\n",
    "\n",
    "for epoch in range(50):  # loop over the dataset multiple times\n",
    "    net.train()\n",
    "    running_loss = 0.0\n",
    "    correct = 0\n",
    "    total = 0\n",
    "    pred = []\n",
    "    for (i, (ecog, dg)) in enumerate(train_loader):\n",
    "        # print(ecog.shape)\n",
    "        ecog = ecog.to(device)\n",
    "        dg = dg.to(device)\n",
    "        output = net(ecog)\n",
    "        pred += [output.detach().cpu().numpy()]\n",
    "        loss = criterion(output, dg)\n",
    "        # print (loss)\n",
    "        optimizer.zero_grad()\n",
    "        loss.backward()\n",
    "        optimizer.step()\n",
    "        running_loss += loss.item()\n",
    "\n",
    "    pred = np.concatenate(pred)\n",
    "    train_cor = correlation_dl(sig.resample(pred, len(data_glove_2_train)), data_glove_2_train)[1]\n",
    "    train_loss = running_loss / len(train_loader)\n",
    "    # train_acc = correct / total\n",
    "    \n",
    "    net.eval()\n",
    "    with torch.no_grad():\n",
    "        running_loss = 0.0\n",
    "        correct = 0\n",
    "        total = 0\n",
    "        pred = []\n",
    "        for (i, (ecog, dg)) in enumerate(test_loader):\n",
    "            ecog = ecog.to(device)\n",
    "            dg = dg.to(device)\n",
    "            output = net(ecog).to(device)\n",
    "            pred += [output.detach().cpu().numpy()]\n",
    "            loss = criterion(output, dg)\n",
    "            running_loss += loss.item()\n",
    "\n",
    "        pred = np.concatenate(pred)\n",
    "        val_cor = correlation_dl(sig.resample(pred, len(dg_2_valid)), dg_2_valid)[1]\n",
    "        \n",
    "        valid_loss = running_loss / len(test_loader)\n",
    "    # print(f'Epoch {epoch + 1} | Train loss: {train_loss:.3f} | Train Acc: {train_acc:.3f} | Valid loss: {valid_loss:.3f} | Valid Acc: {val_cor}')\n",
    "    print(f'Epoch {epoch + 1} | Train loss: {train_loss:.3f} | Train Cor: {train_cor:.3f} | Valid loss: {valid_loss:.3f} | Valid Cor: {val_cor}')\n",
    "    # break"
   ]
  },
  {
   "cell_type": "code",
   "execution_count": 257,
   "metadata": {},
   "outputs": [],
   "source": [
    "np.save('./models/train_mean_S2', train_mean_S2)\n",
    "np.save('./models/train_std_S2', train_std_S2)\n",
    "torch.save(net.state_dict(), './models/NN_S2.pth')"
   ]
  },
  {
   "cell_type": "code",
   "execution_count": 260,
   "metadata": {},
   "outputs": [
    {
     "name": "stderr",
     "output_type": "stream",
     "text": [
      "/opt/conda/envs/pytorch/lib/python3.9/site-packages/scipy/signal/_spectral_py.py:2014: UserWarning: nperseg = 256 is greater than input length  = 64, using nperseg = 64\n",
      "  warnings.warn('nperseg = {0:d} is greater than input length '\n",
      "/opt/conda/envs/pytorch/lib/python3.9/site-packages/sklearn/feature_selection/_univariate_selection.py:289: RuntimeWarning: divide by zero encountered in divide\n",
      "  correlation_coefficient /= X_norms\n",
      "/opt/conda/envs/pytorch/lib/python3.9/site-packages/sklearn/feature_selection/_univariate_selection.py:289: RuntimeWarning: invalid value encountered in divide\n",
      "  correlation_coefficient /= X_norms\n",
      "/opt/conda/envs/pytorch/lib/python3.9/site-packages/sklearn/feature_selection/_univariate_selection.py:358: RuntimeWarning: invalid value encountered in divide\n",
      "  f_statistic = corr_coef_squared / (1 - corr_coef_squared) * deg_of_freedom\n",
      "/opt/conda/envs/pytorch/lib/python3.9/site-packages/sklearn/feature_selection/_univariate_selection.py:289: RuntimeWarning: divide by zero encountered in divide\n",
      "  correlation_coefficient /= X_norms\n",
      "/opt/conda/envs/pytorch/lib/python3.9/site-packages/sklearn/feature_selection/_univariate_selection.py:289: RuntimeWarning: invalid value encountered in divide\n",
      "  correlation_coefficient /= X_norms\n",
      "/opt/conda/envs/pytorch/lib/python3.9/site-packages/sklearn/feature_selection/_univariate_selection.py:358: RuntimeWarning: invalid value encountered in divide\n",
      "  f_statistic = corr_coef_squared / (1 - corr_coef_squared) * deg_of_freedom\n",
      "/opt/conda/envs/pytorch/lib/python3.9/site-packages/sklearn/feature_selection/_univariate_selection.py:289: RuntimeWarning: divide by zero encountered in divide\n",
      "  correlation_coefficient /= X_norms\n",
      "/opt/conda/envs/pytorch/lib/python3.9/site-packages/sklearn/feature_selection/_univariate_selection.py:289: RuntimeWarning: invalid value encountered in divide\n",
      "  correlation_coefficient /= X_norms\n",
      "/opt/conda/envs/pytorch/lib/python3.9/site-packages/sklearn/feature_selection/_univariate_selection.py:358: RuntimeWarning: invalid value encountered in divide\n",
      "  f_statistic = corr_coef_squared / (1 - corr_coef_squared) * deg_of_freedom\n"
     ]
    },
    {
     "name": "stdout",
     "output_type": "stream",
     "text": [
      "(597,)\n"
     ]
    },
    {
     "name": "stderr",
     "output_type": "stream",
     "text": [
      "/opt/conda/envs/pytorch/lib/python3.9/site-packages/sklearn/feature_selection/_univariate_selection.py:289: RuntimeWarning: divide by zero encountered in divide\n",
      "  correlation_coefficient /= X_norms\n",
      "/opt/conda/envs/pytorch/lib/python3.9/site-packages/sklearn/feature_selection/_univariate_selection.py:289: RuntimeWarning: invalid value encountered in divide\n",
      "  correlation_coefficient /= X_norms\n",
      "/opt/conda/envs/pytorch/lib/python3.9/site-packages/sklearn/feature_selection/_univariate_selection.py:358: RuntimeWarning: invalid value encountered in divide\n",
      "  f_statistic = corr_coef_squared / (1 - corr_coef_squared) * deg_of_freedom\n"
     ]
    }
   ],
   "source": [
    "# Compute the R matrix for the training data\n",
    "feature_train = get_windowed_feats(ecog_3_train, 1000, winLen, winOverlap)\n",
    "# R_train = create_R_matrix(feature_train, 5)\n",
    "\n",
    "feature_test = get_windowed_feats(ecog_3_valid, 1000, winLen, winOverlap)\n",
    "# R_test = create_R_matrix(feature_test, 5)\n",
    "\n",
    "# Downsample the glove data\n",
    "Y_train = data_glove_3_train\n",
    "Y_test = dg_3_valid\n",
    "Y_train = moving_average(Y_train, winLen, winDisp)\n",
    "Y_test = moving_average(Y_test, winLen, winDisp)\n",
    "# Y_train = sig.resample(Y_train, feature_train.shape[0], axis=0)\n",
    "# Y_test = sig.resample(Y_test, feature_test.shape[0], axis=0)\n",
    "\n",
    "R_train = create_R_matrix(feature_train, 20)\n",
    "R_test = create_R_matrix(feature_test, 20)\n",
    "\n",
    "idx_3 = feature_selection(R_train, Y_train, 800)\n",
    "print(idx_3.shape)\n",
    "\n",
    "R_train = R_train[:, idx_3]\n",
    "train_mean_S3 = R_train.mean(axis=0)\n",
    "train_std_S3 = R_train.std(axis=0)\n",
    "R_train = (R_train - train_mean_S3) / train_std_S3\n",
    "R_test = R_test[:, idx_3]\n",
    "R_test = (R_test - train_mean_S3) / train_std_S3"
   ]
  },
  {
   "cell_type": "code",
   "execution_count": 269,
   "metadata": {},
   "outputs": [],
   "source": [
    "dataset_s3_train = FingerFeatureDataset(R_train.copy(), Y_train.copy())\n",
    "dataset_s3_valid = FingerFeatureDataset(R_test.copy(), Y_test.copy())\n",
    "\n",
    "train_loader = DataLoader(dataset_s3_train, batch_size=8, shuffle=False)\n",
    "test_loader = DataLoader(dataset_s3_valid, batch_size=8, shuffle=False)"
   ]
  },
  {
   "cell_type": "code",
   "execution_count": 270,
   "metadata": {},
   "outputs": [
    {
     "name": "stdout",
     "output_type": "stream",
     "text": [
      "Epoch 1 | Train loss: 1.382 | Train Cor: 0.167 | Valid loss: 0.732 | Valid Cor: 0.43330096698478415\n",
      "Epoch 2 | Train loss: 0.762 | Train Cor: 0.382 | Valid loss: 0.641 | Valid Cor: 0.5442137449792854\n",
      "Epoch 3 | Train loss: 0.653 | Train Cor: 0.499 | Valid loss: 0.585 | Valid Cor: 0.6128858844131725\n",
      "Epoch 4 | Train loss: 0.600 | Train Cor: 0.550 | Valid loss: 0.554 | Valid Cor: 0.6398262418975164\n",
      "Epoch 5 | Train loss: 0.573 | Train Cor: 0.587 | Valid loss: 0.532 | Valid Cor: 0.6561748603064894\n",
      "Epoch 6 | Train loss: 0.542 | Train Cor: 0.617 | Valid loss: 0.511 | Valid Cor: 0.6810432826879983\n",
      "Epoch 7 | Train loss: 0.510 | Train Cor: 0.641 | Valid loss: 0.494 | Valid Cor: 0.684175062093592\n",
      "Epoch 8 | Train loss: 0.484 | Train Cor: 0.665 | Valid loss: 0.490 | Valid Cor: 0.6911981848142353\n",
      "Epoch 9 | Train loss: 0.473 | Train Cor: 0.677 | Valid loss: 0.474 | Valid Cor: 0.7049498837771777\n",
      "Epoch 10 | Train loss: 0.461 | Train Cor: 0.687 | Valid loss: 0.473 | Valid Cor: 0.7080266110873062\n",
      "Epoch 11 | Train loss: 0.443 | Train Cor: 0.701 | Valid loss: 0.465 | Valid Cor: 0.70966339724876\n",
      "Epoch 12 | Train loss: 0.429 | Train Cor: 0.712 | Valid loss: 0.476 | Valid Cor: 0.705808404765047\n",
      "Epoch 13 | Train loss: 0.431 | Train Cor: 0.712 | Valid loss: 0.464 | Valid Cor: 0.7131208373126885\n",
      "Epoch 14 | Train loss: 0.435 | Train Cor: 0.707 | Valid loss: 0.472 | Valid Cor: 0.7147612692597077\n",
      "Epoch 15 | Train loss: 0.417 | Train Cor: 0.723 | Valid loss: 0.461 | Valid Cor: 0.717240066809252\n",
      "Epoch 16 | Train loss: 0.422 | Train Cor: 0.719 | Valid loss: 0.464 | Valid Cor: 0.7159822130933988\n",
      "Epoch 17 | Train loss: 0.418 | Train Cor: 0.719 | Valid loss: 0.453 | Valid Cor: 0.7206216614607169\n",
      "Epoch 18 | Train loss: 0.402 | Train Cor: 0.733 | Valid loss: 0.464 | Valid Cor: 0.716410770416752\n",
      "Epoch 19 | Train loss: 0.414 | Train Cor: 0.723 | Valid loss: 0.451 | Valid Cor: 0.7216599300329735\n",
      "Epoch 20 | Train loss: 0.406 | Train Cor: 0.729 | Valid loss: 0.460 | Valid Cor: 0.7197755478968338\n",
      "Epoch 21 | Train loss: 0.392 | Train Cor: 0.738 | Valid loss: 0.467 | Valid Cor: 0.7144723931091688\n",
      "Epoch 22 | Train loss: 0.404 | Train Cor: 0.729 | Valid loss: 0.450 | Valid Cor: 0.7205554453172116\n",
      "Epoch 23 | Train loss: 0.396 | Train Cor: 0.735 | Valid loss: 0.453 | Valid Cor: 0.7184437672730832\n",
      "Epoch 24 | Train loss: 0.388 | Train Cor: 0.742 | Valid loss: 0.471 | Valid Cor: 0.7159277852110978\n",
      "Epoch 25 | Train loss: 0.393 | Train Cor: 0.735 | Valid loss: 0.464 | Valid Cor: 0.7121651451456902\n",
      "Epoch 26 | Train loss: 0.393 | Train Cor: 0.737 | Valid loss: 0.463 | Valid Cor: 0.7164237406576832\n",
      "Epoch 27 | Train loss: 0.383 | Train Cor: 0.741 | Valid loss: 0.457 | Valid Cor: 0.7147582654851079\n",
      "Epoch 28 | Train loss: 0.390 | Train Cor: 0.740 | Valid loss: 0.457 | Valid Cor: 0.7148525109268746\n",
      "Epoch 29 | Train loss: 0.385 | Train Cor: 0.741 | Valid loss: 0.451 | Valid Cor: 0.7199195119868453\n",
      "Epoch 30 | Train loss: 0.379 | Train Cor: 0.749 | Valid loss: 0.453 | Valid Cor: 0.7214111034520742\n",
      "Epoch 31 | Train loss: 0.373 | Train Cor: 0.751 | Valid loss: 0.459 | Valid Cor: 0.713572979038785\n",
      "Epoch 32 | Train loss: 0.370 | Train Cor: 0.752 | Valid loss: 0.455 | Valid Cor: 0.7212519638386902\n",
      "Epoch 33 | Train loss: 0.386 | Train Cor: 0.741 | Valid loss: 0.443 | Valid Cor: 0.7236760557396202\n",
      "Epoch 34 | Train loss: 0.371 | Train Cor: 0.754 | Valid loss: 0.459 | Valid Cor: 0.7188678057034388\n",
      "Epoch 35 | Train loss: 0.386 | Train Cor: 0.738 | Valid loss: 0.454 | Valid Cor: 0.718164585048911\n",
      "Epoch 36 | Train loss: 0.383 | Train Cor: 0.743 | Valid loss: 0.460 | Valid Cor: 0.7225048226713839\n",
      "Epoch 37 | Train loss: 0.379 | Train Cor: 0.744 | Valid loss: 0.460 | Valid Cor: 0.7185608840633502\n",
      "Epoch 38 | Train loss: 0.371 | Train Cor: 0.752 | Valid loss: 0.449 | Valid Cor: 0.7210247481538887\n",
      "Epoch 39 | Train loss: 0.367 | Train Cor: 0.755 | Valid loss: 0.462 | Valid Cor: 0.7180121406446112\n",
      "Epoch 40 | Train loss: 0.388 | Train Cor: 0.741 | Valid loss: 0.466 | Valid Cor: 0.7146496091587384\n",
      "Epoch 41 | Train loss: 0.358 | Train Cor: 0.760 | Valid loss: 0.453 | Valid Cor: 0.718303434050101\n",
      "Epoch 42 | Train loss: 0.364 | Train Cor: 0.758 | Valid loss: 0.442 | Valid Cor: 0.7246102711266382\n",
      "Epoch 43 | Train loss: 0.375 | Train Cor: 0.749 | Valid loss: 0.453 | Valid Cor: 0.7167658787973288\n",
      "Epoch 44 | Train loss: 0.377 | Train Cor: 0.748 | Valid loss: 0.447 | Valid Cor: 0.7187112512563649\n",
      "Epoch 45 | Train loss: 0.367 | Train Cor: 0.757 | Valid loss: 0.463 | Valid Cor: 0.7169619676998003\n",
      "Epoch 46 | Train loss: 0.359 | Train Cor: 0.761 | Valid loss: 0.457 | Valid Cor: 0.7151345550244914\n",
      "Epoch 47 | Train loss: 0.364 | Train Cor: 0.757 | Valid loss: 0.458 | Valid Cor: 0.716920096918627\n",
      "Epoch 48 | Train loss: 0.366 | Train Cor: 0.756 | Valid loss: 0.449 | Valid Cor: 0.7230853302977961\n",
      "Epoch 49 | Train loss: 0.363 | Train Cor: 0.758 | Valid loss: 0.451 | Valid Cor: 0.7181452814683201\n",
      "Epoch 50 | Train loss: 0.359 | Train Cor: 0.762 | Valid loss: 0.452 | Valid Cor: 0.721814974213093\n"
     ]
    }
   ],
   "source": [
    "# net = EEGNet().to(device)\n",
    "# net = EEGNetRegressor(4).to(device)\n",
    "# net = EEGNet(n_classes=4, channels=62, samples=3000).to(device) #.cuda(0)\n",
    "net = FingerRegressor(R_train.shape[1], 4).to(device)\n",
    "#print (net.forward(Variable(torch.Tensor(np.random.rand(1, 1, 120, 64)))))#.cuda(0))))\n",
    "criterion = nn.MSELoss()\n",
    "optimizer = optim.Adam(net.parameters())\n",
    "\n",
    "\n",
    "for epoch in range(50):  # loop over the dataset multiple times\n",
    "    net.train()\n",
    "    running_loss = 0.0\n",
    "    correct = 0\n",
    "    total = 0\n",
    "    pred = []\n",
    "    for (i, (ecog, dg)) in enumerate(train_loader):\n",
    "        # print(ecog.shape)\n",
    "        ecog = ecog.to(device)\n",
    "        dg = dg.to(device)\n",
    "        output = net(ecog)\n",
    "        pred += [output.detach().cpu().numpy()]\n",
    "        loss = criterion(output, dg)\n",
    "        # print (loss)\n",
    "        optimizer.zero_grad()\n",
    "        loss.backward()\n",
    "        optimizer.step()\n",
    "        running_loss += loss.item()\n",
    "\n",
    "    pred = np.concatenate(pred)\n",
    "    train_cor = correlation_dl(sig.resample(pred, len(data_glove_3_train)), data_glove_3_train)[1]\n",
    "    train_loss = running_loss / len(train_loader)\n",
    "    # train_acc = correct / total\n",
    "    \n",
    "    net.eval()\n",
    "    with torch.no_grad():\n",
    "        running_loss = 0.0\n",
    "        correct = 0\n",
    "        total = 0\n",
    "        pred = []\n",
    "        for (i, (ecog, dg)) in enumerate(test_loader):\n",
    "            ecog = ecog.to(device)\n",
    "            dg = dg.to(device)\n",
    "            output = net(ecog).to(device)\n",
    "            pred += [output.detach().cpu().numpy()]\n",
    "            loss = criterion(output, dg)\n",
    "            running_loss += loss.item()\n",
    "\n",
    "        pred = np.concatenate(pred)\n",
    "        val_cor = correlation_dl(sig.resample(pred, len(dg_3_valid)), dg_3_valid)[1]\n",
    "        \n",
    "        valid_loss = running_loss / len(test_loader)\n",
    "    # print(f'Epoch {epoch + 1} | Train loss: {train_loss:.3f} | Train Acc: {train_acc:.3f} | Valid loss: {valid_loss:.3f} | Valid Acc: {val_cor}')\n",
    "    print(f'Epoch {epoch + 1} | Train loss: {train_loss:.3f} | Train Cor: {train_cor:.3f} | Valid loss: {valid_loss:.3f} | Valid Cor: {val_cor}')\n",
    "    # break"
   ]
  },
  {
   "cell_type": "code",
   "execution_count": 271,
   "metadata": {},
   "outputs": [],
   "source": [
    "np.save('./models/train_mean_S3', train_mean_S3)\n",
    "np.save('./models/train_std_S3', train_std_S3)\n",
    "torch.save(net.state_dict(), './models/NN_S3.pth')"
   ]
  },
  {
   "cell_type": "code",
   "execution_count": 115,
   "metadata": {},
   "outputs": [
    {
     "name": "stderr",
     "output_type": "stream",
     "text": [
      "/opt/conda/envs/pytorch/lib/python3.9/site-packages/scipy/signal/_spectral_py.py:2014: UserWarning: nperseg = 256 is greater than input length  = 62, using nperseg = 62\n",
      "  warnings.warn('nperseg = {0:d} is greater than input length '\n",
      "/opt/conda/envs/pytorch/lib/python3.9/site-packages/scipy/signal/_spectral_py.py:2014: UserWarning: nperseg = 256 is greater than input length  = 48, using nperseg = 48\n",
      "  warnings.warn('nperseg = {0:d} is greater than input length '\n",
      "/opt/conda/envs/pytorch/lib/python3.9/site-packages/scipy/signal/_spectral_py.py:2014: UserWarning: nperseg = 256 is greater than input length  = 64, using nperseg = 64\n",
      "  warnings.warn('nperseg = {0:d} is greater than input length '\n"
     ]
    }
   ],
   "source": [
    "ecog_1_leaderboard = ecog_1_comp[500: 500 + 147500]\n",
    "dg_1_leaderboard = dg_1_comp[500: 500 + 147500]\n",
    "\n",
    "ecog_2_leaderboard = ecog_2_comp[500: 500 + 147500]\n",
    "dg_2_leaderboard = dg_2_comp[500: 500 + 147500]\n",
    "\n",
    "ecog_3_leaderboard = ecog_3_comp[500: 500 + 147500]\n",
    "dg_3_leaderboard = dg_3_comp[500: 500 + 147500]\n",
    "\n",
    "winLen = 100 / 1e3\n",
    "winOverlap = 50 / 1e3\n",
    "winDisp = winLen - winOverlap\n",
    "\n",
    "\n",
    "feature_1 = get_windowed_feats(ecog_1_leaderboard, 1000, winLen, winOverlap)\n",
    "# R_1 = create_R_matrix(feature_1, 5)\n",
    "feature_2 = get_windowed_feats(ecog_2_leaderboard, 1000, winLen, winOverlap)\n",
    "# R_2 = create_R_matrix(feature_2, 5)\n",
    "feature_3 = get_windowed_feats(ecog_3_leaderboard, 1000, winLen, winOverlap)\n",
    "# R_3 = create_R_matrix(feature_3, 5)\n",
    "\n",
    "# idx_1 = np.load('./models/idx_S1.npy')\n",
    "# idx_2 = np.load('./models/idx_S2.npy')\n",
    "# idx_3 = np.load('./models/idx_S3.npy')\n",
    "\n",
    "R_1 = create_R_matrix(feature_1, 20)[:, idx_1]\n",
    "R_2 = create_R_matrix(feature_2, 20)[:, idx_2]\n",
    "R_3 = create_R_matrix(feature_3, 20)[:, idx_3]\n"
   ]
  },
  {
   "cell_type": "code",
   "execution_count": 116,
   "metadata": {},
   "outputs": [],
   "source": [
    "train_mean_S1 = np.load('./models/train_mean_S1.npy')\n",
    "train_std_S1 = np.load('./models/train_std_S1.npy')\n",
    "\n",
    "train_mean_S2 = np.load('./models/train_mean_S2.npy')\n",
    "train_std_S2 = np.load('./models/train_std_S2.npy')\n",
    "\n",
    "train_mean_S3 = np.load('./models/train_mean_S3.npy')\n",
    "train_std_S3 = np.load('./models/train_std_S3.npy')"
   ]
  },
  {
   "cell_type": "code",
   "execution_count": 117,
   "metadata": {},
   "outputs": [
    {
     "data": {
      "text/plain": [
       "0.5553528686861728"
      ]
     },
     "execution_count": 117,
     "metadata": {},
     "output_type": "execute_result"
    }
   ],
   "source": [
    "leaderboard_dataset = FingerFeatureDataset((R_1 - train_mean_S1) / train_std_S1, np.zeros(R_1.shape[0]).copy())\n",
    "dataloader = DataLoader(leaderboard_dataset, batch_size=16, shuffle=False)\n",
    "\n",
    "net = FingerRegressor(R_1.shape[1], 4).to(device)\n",
    "net.load_state_dict(torch.load('./models/NN_S1.pth'))\n",
    "\n",
    "with torch.no_grad():\n",
    "    pred = []\n",
    "    net.eval()\n",
    "    for i, (ecog, dg) in enumerate(dataloader):\n",
    "        ecog = ecog.to(device)\n",
    "        dg = dg.to(device)\n",
    "        output = net(ecog).to(device)\n",
    "        pred += [output.detach().cpu().numpy()]\n",
    "\n",
    "    pred = np.concatenate(pred)\n",
    "correlation_dl(sig.resample(pred, len(dg_1_leaderboard)), dg_1_leaderboard)[1]"
   ]
  },
  {
   "cell_type": "code",
   "execution_count": 118,
   "metadata": {},
   "outputs": [
    {
     "data": {
      "text/plain": [
       "0.5654337122490332"
      ]
     },
     "execution_count": 118,
     "metadata": {},
     "output_type": "execute_result"
    }
   ],
   "source": [
    "leaderboard_dataset = FingerFeatureDataset((R_2 - train_mean_S2) / train_std_S2, np.zeros(R_2.shape[0]).copy())\n",
    "dataloader = DataLoader(leaderboard_dataset, batch_size=16, shuffle=False)\n",
    "\n",
    "net = FingerRegressor(R_2.shape[1], 4).to(device)\n",
    "net.load_state_dict(torch.load('./models/NN_S2.pth'))\n",
    "\n",
    "with torch.no_grad():\n",
    "    pred = []\n",
    "    net.eval()\n",
    "    for i, (ecog, dg) in enumerate(dataloader):\n",
    "        ecog = ecog.to(device)\n",
    "        dg = dg.to(device)\n",
    "        output = net(ecog).to(device)\n",
    "        pred += [output.detach().cpu().numpy()]\n",
    "\n",
    "    pred = np.concatenate(pred)\n",
    "correlation_dl(sig.resample(pred, len(dg_2_leaderboard)), dg_2_leaderboard)[1]"
   ]
  },
  {
   "cell_type": "code",
   "execution_count": 119,
   "metadata": {},
   "outputs": [
    {
     "data": {
      "text/plain": [
       "0.6924273174017038"
      ]
     },
     "execution_count": 119,
     "metadata": {},
     "output_type": "execute_result"
    }
   ],
   "source": [
    "leaderboard_dataset = FingerFeatureDataset((R_3 - train_mean_S3) / train_std_S3, np.zeros(R_3.shape[0]).copy())\n",
    "dataloader = DataLoader(leaderboard_dataset, batch_size=16, shuffle=False)\n",
    "\n",
    "net = FingerRegressor(R_3.shape[1], 4).to(device)\n",
    "net.load_state_dict(torch.load('./models/NN_S3.pth'))\n",
    "\n",
    "with torch.no_grad():\n",
    "    pred = []\n",
    "    net.eval()\n",
    "    for i, (ecog, dg) in enumerate(dataloader):\n",
    "        ecog = ecog.to(device)\n",
    "        dg = dg.to(device)\n",
    "        output = net(ecog).to(device)\n",
    "        pred += [output.detach().cpu().numpy()]\n",
    "\n",
    "    pred = np.concatenate(pred)\n",
    "correlation_dl(sig.resample(pred, len(dg_3_leaderboard)), dg_3_leaderboard)[1]"
   ]
  },
  {
   "cell_type": "code",
   "execution_count": null,
   "metadata": {},
   "outputs": [],
   "source": []
  },
  {
   "cell_type": "code",
   "execution_count": null,
   "metadata": {},
   "outputs": [],
   "source": []
  }
 ],
 "metadata": {
  "kernelspec": {
   "display_name": "Python 3 (ipykernel)",
   "language": "python",
   "name": "python3"
  },
  "language_info": {
   "codemirror_mode": {
    "name": "ipython",
    "version": 3
   },
   "file_extension": ".py",
   "mimetype": "text/x-python",
   "name": "python",
   "nbconvert_exporter": "python",
   "pygments_lexer": "ipython3",
   "version": "3.9.16"
  }
 },
 "nbformat": 4,
 "nbformat_minor": 2
}
