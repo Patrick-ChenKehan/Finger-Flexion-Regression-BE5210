{
 "cells": [
  {
   "cell_type": "code",
   "execution_count": 202,
   "metadata": {},
   "outputs": [],
   "source": [
    "import numpy as np\n",
    "from sklearn.metrics import roc_auc_score, precision_score, recall_score, accuracy_score\n",
    "import torch\n",
    "import torch.nn as nn\n",
    "import torch.optim as optim\n",
    "from torch.autograd import Variable\n",
    "import torch.nn.functional as F\n",
    "import torch.optim as optim\n",
    "import scipy\n",
    "import scipy.io\n",
    "import matplotlib.pyplot as plt\n",
    "import random\n",
    "import pickle\n",
    "from torch.utils.data import Dataset, DataLoader\n",
    "import scipy.signal as sig\n",
    "from scipy.stats import pearsonr\n",
    "from utils import *"
   ]
  },
  {
   "cell_type": "code",
   "execution_count": 203,
   "metadata": {},
   "outputs": [
    {
     "data": {
      "text/plain": [
       "device(type='cuda', index=0)"
      ]
     },
     "execution_count": 203,
     "metadata": {},
     "output_type": "execute_result"
    }
   ],
   "source": [
    "device = torch.device(0)\n",
    "device"
   ]
  },
  {
   "cell_type": "code",
   "execution_count": 204,
   "metadata": {},
   "outputs": [],
   "source": [
    "raw = scipy.io.loadmat('./datasets/raw_training_data.mat')\n",
    "data_glove_1 = raw['train_dg'][0][0]\n",
    "data_glove_1_train = np.delete(data_glove_1, 3, 1)\n",
    "data_glove_2 = raw['train_dg'][1][0]\n",
    "data_glove_2_train = np.delete(data_glove_2, 3, 1)\n",
    "data_glove_3 = raw['train_dg'][2][0]\n",
    "data_glove_3_train = np.delete(data_glove_3, 3, 1)\n",
    "\n",
    "ecog_1_train = raw['train_ecog'][0][0]\n",
    "ecog_2_train = raw['train_ecog'][1][0]\n",
    "ecog_3_train = raw['train_ecog'][2][0]\n",
    "\n",
    "\n",
    "raw = scipy.io.loadmat('./datasets/sub1_comp.mat')\n",
    "ecog_1_comp = raw['train_data']\n",
    "dg_1_comp = raw['train_dg']\n",
    "ecog_1_valid = raw['test_data'][49000:]\n",
    "\n",
    "raw = scipy.io.loadmat('./datasets/sub2_comp.mat')\n",
    "ecog_2_comp = raw['train_data']\n",
    "dg_2_comp = raw['train_dg']\n",
    "ecog_2_valid = raw['test_data'][49000:]\n",
    "\n",
    "raw = scipy.io.loadmat('./datasets/sub3_comp.mat')\n",
    "ecog_3_comp = raw['train_data']\n",
    "dg_3_comp = raw['train_dg']\n",
    "ecog_3_valid = raw['test_data'][49000:]\n",
    "\n",
    "dg_1_raw = scipy.io.loadmat('./datasets/sub1_testlabels.mat')\n",
    "dg_1_valid = dg_1_raw['test_dg'][49000:]\n",
    "dg_1_valid = np.delete(dg_1_valid, 3, 1)\n",
    "\n",
    "dg_2_raw = scipy.io.loadmat('./datasets/sub2_testlabels.mat')\n",
    "dg_2_valid = dg_2_raw['test_dg'][49000:]\n",
    "dg_2_valid = np.delete(dg_2_valid, 3, 1)\n",
    "\n",
    "dg_3_raw = scipy.io.loadmat('./datasets/sub3_testlabels.mat')\n",
    "dg_3_valid = dg_3_raw['test_dg'][49000:]\n",
    "dg_3_valid = np.delete(dg_3_valid, 3, 1)"
   ]
  },
  {
   "cell_type": "code",
   "execution_count": 214,
   "metadata": {},
   "outputs": [],
   "source": [
    "winLen = 100 / 1e3\n",
    "winOverlap = 50 / 1e3\n",
    "winDisp = winLen - winOverlap"
   ]
  },
  {
   "cell_type": "code",
   "execution_count": 206,
   "metadata": {},
   "outputs": [],
   "source": [
    "class FingerFeatureDataset(Dataset):\n",
    "    def __init__(self, R, dg, window=2000):\n",
    "        self.R = np.float32(R + np.random.normal(0,0.1, R.shape))\n",
    "#         self.R = (self.R - ecog_1_train.mean(axis=0)) / ecog_1_train.std(axis=0)\n",
    "#         self.ecog = self.ecog.reshape(self.ecog.shape[0], 1, -1)\n",
    "        self.dg = np.float32(dg)\n",
    "        \n",
    "    \n",
    "\n",
    "    def __len__(self):\n",
    "        return len(self.R)\n",
    "\n",
    "    def __getitem__(self, idx):\n",
    "        \n",
    "        return self.R[idx], self.dg[idx]"
   ]
  },
  {
   "cell_type": "code",
   "execution_count": 216,
   "metadata": {},
   "outputs": [],
   "source": [
    "def moving_average(x, winLen, winDisp):\n",
    "    result = []\n",
    "    for i in range(NumWins(x, 1000, winLen, winDisp)):\n",
    "        result.append(x[i * int(winDisp * 1000):i * int(winDisp * 1000) + int(winLen * 1000)].mean(axis=0))\n",
    "    return np.array(result)"
   ]
  },
  {
   "cell_type": "code",
   "execution_count": 217,
   "metadata": {},
   "outputs": [
    {
     "name": "stderr",
     "output_type": "stream",
     "text": [
      "/opt/conda/envs/pytorch/lib/python3.9/site-packages/sklearn/feature_selection/_univariate_selection.py:289: RuntimeWarning: divide by zero encountered in divide\n",
      "  correlation_coefficient /= X_norms\n",
      "/opt/conda/envs/pytorch/lib/python3.9/site-packages/sklearn/feature_selection/_univariate_selection.py:289: RuntimeWarning: invalid value encountered in divide\n",
      "  correlation_coefficient /= X_norms\n",
      "/opt/conda/envs/pytorch/lib/python3.9/site-packages/sklearn/feature_selection/_univariate_selection.py:358: RuntimeWarning: invalid value encountered in divide\n",
      "  f_statistic = corr_coef_squared / (1 - corr_coef_squared) * deg_of_freedom\n",
      "/opt/conda/envs/pytorch/lib/python3.9/site-packages/sklearn/feature_selection/_univariate_selection.py:289: RuntimeWarning: divide by zero encountered in divide\n",
      "  correlation_coefficient /= X_norms\n",
      "/opt/conda/envs/pytorch/lib/python3.9/site-packages/sklearn/feature_selection/_univariate_selection.py:289: RuntimeWarning: invalid value encountered in divide\n",
      "  correlation_coefficient /= X_norms\n",
      "/opt/conda/envs/pytorch/lib/python3.9/site-packages/sklearn/feature_selection/_univariate_selection.py:358: RuntimeWarning: invalid value encountered in divide\n",
      "  f_statistic = corr_coef_squared / (1 - corr_coef_squared) * deg_of_freedom\n",
      "/opt/conda/envs/pytorch/lib/python3.9/site-packages/sklearn/feature_selection/_univariate_selection.py:289: RuntimeWarning: divide by zero encountered in divide\n",
      "  correlation_coefficient /= X_norms\n",
      "/opt/conda/envs/pytorch/lib/python3.9/site-packages/sklearn/feature_selection/_univariate_selection.py:289: RuntimeWarning: invalid value encountered in divide\n",
      "  correlation_coefficient /= X_norms\n",
      "/opt/conda/envs/pytorch/lib/python3.9/site-packages/sklearn/feature_selection/_univariate_selection.py:358: RuntimeWarning: invalid value encountered in divide\n",
      "  f_statistic = corr_coef_squared / (1 - corr_coef_squared) * deg_of_freedom\n",
      "/opt/conda/envs/pytorch/lib/python3.9/site-packages/sklearn/feature_selection/_univariate_selection.py:289: RuntimeWarning: divide by zero encountered in divide\n",
      "  correlation_coefficient /= X_norms\n",
      "/opt/conda/envs/pytorch/lib/python3.9/site-packages/sklearn/feature_selection/_univariate_selection.py:289: RuntimeWarning: invalid value encountered in divide\n",
      "  correlation_coefficient /= X_norms\n",
      "/opt/conda/envs/pytorch/lib/python3.9/site-packages/sklearn/feature_selection/_univariate_selection.py:358: RuntimeWarning: invalid value encountered in divide\n",
      "  f_statistic = corr_coef_squared / (1 - corr_coef_squared) * deg_of_freedom\n"
     ]
    },
    {
     "name": "stdout",
     "output_type": "stream",
     "text": [
      "(656,)\n"
     ]
    }
   ],
   "source": [
    "# Compute the R matrix for the training data\n",
    "feature_train = get_windowed_feats(ecog_1_train, 1000, winLen, winOverlap)\n",
    "# R_train = create_R_matrix(feature_train, 5)\n",
    "\n",
    "feature_test = get_windowed_feats(ecog_1_valid, 1000, winLen, winOverlap)\n",
    "# R_test = create_R_matrix(feature_test, 5)\n",
    "\n",
    "# Downsample the glove data\n",
    "Y_train = data_glove_1_train\n",
    "Y_test = dg_1_valid\n",
    "Y_train = moving_average(Y_train, winLen, winDisp)\n",
    "Y_test = moving_average(Y_test, winLen, winDisp)\n",
    "\n",
    "R_train = create_R_matrix(feature_train, 30)\n",
    "R_test = create_R_matrix(feature_test, 30)\n",
    "\n",
    "idx_1 = feature_selection(R_train, Y_train, 800)\n",
    "print(idx_1.shape)\n",
    "\n",
    "R_train = R_train[:, idx_1]\n",
    "train_mean_S1 = R_train.mean(axis=0)\n",
    "train_std_S1 = R_train.std(axis=0)\n",
    "R_train = (R_train - train_mean_S1) / train_std_S1\n",
    "R_test = R_test[:, idx_1]\n",
    "R_test = (R_test - train_mean_S1) / train_std_S1"
   ]
  },
  {
   "cell_type": "code",
   "execution_count": null,
   "metadata": {},
   "outputs": [],
   "source": [
    "Y_test.shape"
   ]
  },
  {
   "cell_type": "code",
   "execution_count": 218,
   "metadata": {},
   "outputs": [],
   "source": [
    "dataset_s1_train = FingerFeatureDataset(R_train.copy(), Y_train.copy())\n",
    "dataset_s1_valid = FingerFeatureDataset(R_test.copy(), Y_test.copy())\n",
    "\n",
    "train_loader = DataLoader(dataset_s1_train, batch_size=16, shuffle=False)\n",
    "test_loader = DataLoader(dataset_s1_valid, batch_size=16, shuffle=False)"
   ]
  },
  {
   "cell_type": "code",
   "execution_count": 246,
   "metadata": {},
   "outputs": [],
   "source": [
    "class FingerRegressor(nn.Module):\n",
    "    def __init__(self, num_features, num_fingers) -> None:\n",
    "        super(FingerRegressor, self).__init__()\n",
    "        \n",
    "        self.fc1 = nn.Linear(num_features, 16)\n",
    "        self.fc2 = nn.Linear(16, 8)\n",
    "        self.fc3 = nn.Linear(8, num_fingers)\n",
    "        self.relu = nn.ReLU()\n",
    "        \n",
    "        nn.init.xavier_normal_(self.fc1.weight)\n",
    "        nn.init.xavier_normal_(self.fc2.weight)\n",
    "        nn.init.xavier_normal_(self.fc3.weight)\n",
    "\n",
    "        self.dropout1 = nn.Dropout(0.4)\n",
    "        self.dropout2 = nn.Dropout(0.15)\n",
    "        \n",
    "    def forward(self, x):\n",
    "        x = self.dropout1(x)\n",
    "        x = self.relu(self.fc1(x))\n",
    "        \n",
    "        x = self.dropout2(x)\n",
    "        x = self.relu(self.fc2(x))\n",
    "        x = self.dropout2(x)\n",
    "        output = self.fc3(x)\n",
    "\n",
    "        \n",
    "        return output"
   ]
  },
  {
   "cell_type": "code",
   "execution_count": 223,
   "metadata": {},
   "outputs": [
    {
     "name": "stdout",
     "output_type": "stream",
     "text": [
      "Epoch 1 | Train loss: 1.160 | Train Cor: 0.094 | Valid loss: 0.911 | Valid Cor: 0.2323334301432619\n",
      "Epoch 2 | Train loss: 0.875 | Train Cor: 0.215 | Valid loss: 0.848 | Valid Cor: 0.2923539703223731\n",
      "Epoch 3 | Train loss: 0.811 | Train Cor: 0.288 | Valid loss: 0.790 | Valid Cor: 0.34845122123226524\n",
      "Epoch 4 | Train loss: 0.773 | Train Cor: 0.335 | Valid loss: 0.759 | Valid Cor: 0.3891205493547354\n",
      "Epoch 5 | Train loss: 0.715 | Train Cor: 0.403 | Valid loss: 0.738 | Valid Cor: 0.4156788469509735\n",
      "Epoch 6 | Train loss: 0.681 | Train Cor: 0.435 | Valid loss: 0.717 | Valid Cor: 0.44224361444892835\n",
      "Epoch 7 | Train loss: 0.640 | Train Cor: 0.482 | Valid loss: 0.706 | Valid Cor: 0.4665280710524751\n",
      "Epoch 8 | Train loss: 0.619 | Train Cor: 0.502 | Valid loss: 0.706 | Valid Cor: 0.4834687270060688\n",
      "Epoch 9 | Train loss: 0.603 | Train Cor: 0.520 | Valid loss: 0.703 | Valid Cor: 0.5040250344212523\n",
      "Epoch 10 | Train loss: 0.576 | Train Cor: 0.544 | Valid loss: 0.716 | Valid Cor: 0.5028497333176456\n",
      "Epoch 11 | Train loss: 0.574 | Train Cor: 0.547 | Valid loss: 0.711 | Valid Cor: 0.5113156421279768\n",
      "Epoch 12 | Train loss: 0.547 | Train Cor: 0.574 | Valid loss: 0.704 | Valid Cor: 0.5296799772333872\n",
      "Epoch 13 | Train loss: 0.534 | Train Cor: 0.595 | Valid loss: 0.702 | Valid Cor: 0.523339816606709\n",
      "Epoch 14 | Train loss: 0.535 | Train Cor: 0.590 | Valid loss: 0.691 | Valid Cor: 0.5330069106623757\n",
      "Epoch 15 | Train loss: 0.516 | Train Cor: 0.608 | Valid loss: 0.700 | Valid Cor: 0.5296370860023238\n",
      "Epoch 16 | Train loss: 0.490 | Train Cor: 0.633 | Valid loss: 0.699 | Valid Cor: 0.5350104279309593\n",
      "Epoch 17 | Train loss: 0.489 | Train Cor: 0.635 | Valid loss: 0.702 | Valid Cor: 0.5414923837039184\n",
      "Epoch 18 | Train loss: 0.478 | Train Cor: 0.646 | Valid loss: 0.709 | Valid Cor: 0.5393145258834351\n",
      "Epoch 19 | Train loss: 0.465 | Train Cor: 0.655 | Valid loss: 0.703 | Valid Cor: 0.5378640280404943\n",
      "Epoch 20 | Train loss: 0.461 | Train Cor: 0.661 | Valid loss: 0.706 | Valid Cor: 0.5457233375473104\n",
      "Epoch 21 | Train loss: 0.457 | Train Cor: 0.663 | Valid loss: 0.705 | Valid Cor: 0.5470449849065749\n",
      "Epoch 22 | Train loss: 0.458 | Train Cor: 0.662 | Valid loss: 0.694 | Valid Cor: 0.5607885034398045\n",
      "Epoch 23 | Train loss: 0.448 | Train Cor: 0.671 | Valid loss: 0.698 | Valid Cor: 0.5505973642248441\n",
      "Epoch 24 | Train loss: 0.441 | Train Cor: 0.677 | Valid loss: 0.705 | Valid Cor: 0.5469336738358512\n",
      "Epoch 25 | Train loss: 0.431 | Train Cor: 0.687 | Valid loss: 0.704 | Valid Cor: 0.548356587487486\n",
      "Epoch 26 | Train loss: 0.435 | Train Cor: 0.684 | Valid loss: 0.701 | Valid Cor: 0.5526202109366297\n",
      "Epoch 27 | Train loss: 0.425 | Train Cor: 0.692 | Valid loss: 0.707 | Valid Cor: 0.5457367699332604\n",
      "Epoch 28 | Train loss: 0.421 | Train Cor: 0.695 | Valid loss: 0.715 | Valid Cor: 0.5430922801631906\n",
      "Epoch 29 | Train loss: 0.423 | Train Cor: 0.692 | Valid loss: 0.708 | Valid Cor: 0.5324413742690137\n",
      "Epoch 30 | Train loss: 0.426 | Train Cor: 0.693 | Valid loss: 0.700 | Valid Cor: 0.5475088140202242\n",
      "Epoch 31 | Train loss: 0.420 | Train Cor: 0.698 | Valid loss: 0.707 | Valid Cor: 0.5386193427790001\n",
      "Epoch 32 | Train loss: 0.417 | Train Cor: 0.702 | Valid loss: 0.711 | Valid Cor: 0.5365512073849259\n",
      "Epoch 33 | Train loss: 0.417 | Train Cor: 0.700 | Valid loss: 0.712 | Valid Cor: 0.5405257224163563\n",
      "Epoch 34 | Train loss: 0.415 | Train Cor: 0.704 | Valid loss: 0.709 | Valid Cor: 0.5360755194683394\n",
      "Epoch 35 | Train loss: 0.406 | Train Cor: 0.712 | Valid loss: 0.703 | Valid Cor: 0.5462442994408974\n",
      "Epoch 36 | Train loss: 0.409 | Train Cor: 0.706 | Valid loss: 0.698 | Valid Cor: 0.5519002917896122\n",
      "Epoch 37 | Train loss: 0.422 | Train Cor: 0.695 | Valid loss: 0.706 | Valid Cor: 0.5462026298071435\n",
      "Epoch 38 | Train loss: 0.407 | Train Cor: 0.709 | Valid loss: 0.704 | Valid Cor: 0.5463806360916188\n",
      "Epoch 39 | Train loss: 0.408 | Train Cor: 0.708 | Valid loss: 0.710 | Valid Cor: 0.5493965258022511\n",
      "Epoch 40 | Train loss: 0.401 | Train Cor: 0.715 | Valid loss: 0.708 | Valid Cor: 0.5442757918543343\n",
      "Epoch 41 | Train loss: 0.390 | Train Cor: 0.719 | Valid loss: 0.698 | Valid Cor: 0.5555107835839914\n",
      "Epoch 42 | Train loss: 0.409 | Train Cor: 0.706 | Valid loss: 0.709 | Valid Cor: 0.5445624053555203\n",
      "Epoch 43 | Train loss: 0.396 | Train Cor: 0.710 | Valid loss: 0.701 | Valid Cor: 0.5564852349632008\n",
      "Epoch 44 | Train loss: 0.393 | Train Cor: 0.715 | Valid loss: 0.691 | Valid Cor: 0.5591679626805263\n",
      "Epoch 45 | Train loss: 0.396 | Train Cor: 0.718 | Valid loss: 0.705 | Valid Cor: 0.5551113306679141\n",
      "Epoch 46 | Train loss: 0.399 | Train Cor: 0.716 | Valid loss: 0.694 | Valid Cor: 0.5569513333147159\n",
      "Epoch 47 | Train loss: 0.387 | Train Cor: 0.724 | Valid loss: 0.705 | Valid Cor: 0.5501658994265047\n",
      "Epoch 48 | Train loss: 0.395 | Train Cor: 0.720 | Valid loss: 0.698 | Valid Cor: 0.5512092934691418\n",
      "Epoch 49 | Train loss: 0.396 | Train Cor: 0.715 | Valid loss: 0.696 | Valid Cor: 0.5540670393495818\n",
      "Epoch 50 | Train loss: 0.392 | Train Cor: 0.720 | Valid loss: 0.703 | Valid Cor: 0.5544422324281892\n"
     ]
    }
   ],
   "source": [
    "net = FingerRegressor(R_train.shape[1], 4).to(device)\n",
    "criterion = nn.MSELoss()\n",
    "optimizer = optim.Adam(net.parameters())\n",
    "\n",
    "\n",
    "for epoch in range(50):  # loop over the dataset multiple times\n",
    "    net.train()\n",
    "    running_loss = 0.0\n",
    "    correct = 0\n",
    "    total = 0\n",
    "    pred = []\n",
    "    for (i, (ecog, dg)) in enumerate(train_loader):\n",
    "        # print(ecog.shape)\n",
    "        ecog = ecog.to(device)\n",
    "        dg = dg.to(device)\n",
    "        output = net(ecog)\n",
    "        pred += [output.detach().cpu().numpy()]\n",
    "        loss = criterion(output, dg)\n",
    "        # print (loss)\n",
    "        optimizer.zero_grad()\n",
    "        loss.backward()\n",
    "        optimizer.step()\n",
    "        running_loss += loss.item()\n",
    "\n",
    "    pred = np.concatenate(pred)\n",
    "    train_cor = correlation_dl(sig.resample(pred, len(data_glove_1_train)), data_glove_1_train)[1]\n",
    "    train_loss = running_loss / len(train_loader)\n",
    "    # train_acc = correct / total\n",
    "    \n",
    "    net.eval()\n",
    "    with torch.no_grad():\n",
    "        running_loss = 0.0\n",
    "        correct = 0\n",
    "        total = 0\n",
    "        pred = []\n",
    "        for (i, (ecog, dg)) in enumerate(test_loader):\n",
    "            ecog = ecog.to(device)\n",
    "            dg = dg.to(device)\n",
    "            output = net(ecog).to(device)\n",
    "            pred += [output.detach().cpu().numpy()]\n",
    "            loss = criterion(output, dg)\n",
    "            running_loss += loss.item()\n",
    "\n",
    "        pred = np.concatenate(pred)\n",
    "        val_cor = correlation_dl(sig.resample(pred, len(dg_1_valid)), dg_1_valid)[1]\n",
    "        \n",
    "        valid_loss = running_loss / len(test_loader)\n",
    "    # print(f'Epoch {epoch + 1} | Train loss: {train_loss:.3f} | Train Acc: {train_acc:.3f} | Valid loss: {valid_loss:.3f} | Valid Acc: {val_cor}')\n",
    "    print(f'Epoch {epoch + 1} | Train loss: {train_loss:.3f} | Train Cor: {train_cor:.3f} | Valid loss: {valid_loss:.3f} | Valid Cor: {val_cor}')\n",
    "    # break"
   ]
  },
  {
   "cell_type": "code",
   "execution_count": 224,
   "metadata": {},
   "outputs": [],
   "source": [
    "np.save('./models/train_mean_S1', train_mean_S1)\n",
    "np.save('./models/train_std_S1', train_std_S1)\n",
    "torch.save(net.state_dict(), './models/NN_S1.pth')"
   ]
  },
  {
   "cell_type": "code",
   "execution_count": 248,
   "metadata": {},
   "outputs": [
    {
     "name": "stderr",
     "output_type": "stream",
     "text": [
      "/opt/conda/envs/pytorch/lib/python3.9/site-packages/scipy/signal/_spectral_py.py:2014: UserWarning: nperseg = 256 is greater than input length  = 48, using nperseg = 48\n",
      "  warnings.warn('nperseg = {0:d} is greater than input length '\n",
      "/opt/conda/envs/pytorch/lib/python3.9/site-packages/sklearn/feature_selection/_univariate_selection.py:289: RuntimeWarning: divide by zero encountered in divide\n",
      "  correlation_coefficient /= X_norms\n",
      "/opt/conda/envs/pytorch/lib/python3.9/site-packages/sklearn/feature_selection/_univariate_selection.py:289: RuntimeWarning: invalid value encountered in divide\n",
      "  correlation_coefficient /= X_norms\n",
      "/opt/conda/envs/pytorch/lib/python3.9/site-packages/sklearn/feature_selection/_univariate_selection.py:358: RuntimeWarning: invalid value encountered in divide\n",
      "  f_statistic = corr_coef_squared / (1 - corr_coef_squared) * deg_of_freedom\n",
      "/opt/conda/envs/pytorch/lib/python3.9/site-packages/sklearn/feature_selection/_univariate_selection.py:289: RuntimeWarning: divide by zero encountered in divide\n",
      "  correlation_coefficient /= X_norms\n",
      "/opt/conda/envs/pytorch/lib/python3.9/site-packages/sklearn/feature_selection/_univariate_selection.py:289: RuntimeWarning: invalid value encountered in divide\n",
      "  correlation_coefficient /= X_norms\n",
      "/opt/conda/envs/pytorch/lib/python3.9/site-packages/sklearn/feature_selection/_univariate_selection.py:358: RuntimeWarning: invalid value encountered in divide\n",
      "  f_statistic = corr_coef_squared / (1 - corr_coef_squared) * deg_of_freedom\n",
      "/opt/conda/envs/pytorch/lib/python3.9/site-packages/sklearn/feature_selection/_univariate_selection.py:289: RuntimeWarning: divide by zero encountered in divide\n",
      "  correlation_coefficient /= X_norms\n",
      "/opt/conda/envs/pytorch/lib/python3.9/site-packages/sklearn/feature_selection/_univariate_selection.py:289: RuntimeWarning: invalid value encountered in divide\n",
      "  correlation_coefficient /= X_norms\n",
      "/opt/conda/envs/pytorch/lib/python3.9/site-packages/sklearn/feature_selection/_univariate_selection.py:358: RuntimeWarning: invalid value encountered in divide\n",
      "  f_statistic = corr_coef_squared / (1 - corr_coef_squared) * deg_of_freedom\n"
     ]
    },
    {
     "name": "stdout",
     "output_type": "stream",
     "text": [
      "(551,)\n"
     ]
    },
    {
     "name": "stderr",
     "output_type": "stream",
     "text": [
      "/opt/conda/envs/pytorch/lib/python3.9/site-packages/sklearn/feature_selection/_univariate_selection.py:289: RuntimeWarning: divide by zero encountered in divide\n",
      "  correlation_coefficient /= X_norms\n",
      "/opt/conda/envs/pytorch/lib/python3.9/site-packages/sklearn/feature_selection/_univariate_selection.py:289: RuntimeWarning: invalid value encountered in divide\n",
      "  correlation_coefficient /= X_norms\n",
      "/opt/conda/envs/pytorch/lib/python3.9/site-packages/sklearn/feature_selection/_univariate_selection.py:358: RuntimeWarning: invalid value encountered in divide\n",
      "  f_statistic = corr_coef_squared / (1 - corr_coef_squared) * deg_of_freedom\n"
     ]
    }
   ],
   "source": [
    "# Compute the R matrix for the training data\n",
    "feature_train = get_windowed_feats(ecog_2_train, 1000, winLen, winOverlap)\n",
    "# R_train = create_R_matrix(feature_train, 5)\n",
    "\n",
    "feature_test = get_windowed_feats(ecog_2_valid, 1000, winLen, winOverlap)\n",
    "# R_test = create_R_matrix(feature_test, 5)\n",
    "\n",
    "# Downsample the glove data\n",
    "Y_train = data_glove_2_train\n",
    "Y_test = dg_2_valid\n",
    "Y_train = moving_average(Y_train, winLen, winDisp)\n",
    "Y_test = moving_average(Y_test, winLen, winDisp)\n",
    "# Y_train = sig.resample(Y_train, feature_train.shape[0], axis=0)\n",
    "# Y_test = sig.resample(Y_test, feature_test.shape[0], axis=0)\n",
    "\n",
    "R_train = create_R_matrix(feature_train, 20)\n",
    "R_test = create_R_matrix(feature_test, 20)\n",
    "\n",
    "idx_2 = feature_selection(R_train, Y_train, 800)\n",
    "print(idx_2.shape)\n",
    "\n",
    "R_train = R_train[:, idx_2]\n",
    "train_mean_S2 = R_train.mean(axis=0)\n",
    "train_std_S2 = R_train.std(axis=0)\n",
    "R_train = (R_train - train_mean_S2) / train_std_S2\n",
    "R_test = R_test[:, idx_2]\n",
    "R_test = (R_test - train_mean_S2) / train_std_S2"
   ]
  },
  {
   "cell_type": "code",
   "execution_count": 249,
   "metadata": {},
   "outputs": [],
   "source": [
    "dataset_s2_train = FingerFeatureDataset(R_train.copy(), Y_train.copy())\n",
    "dataset_s2_valid = FingerFeatureDataset(R_test.copy(), Y_test.copy())\n",
    "\n",
    "train_loader = DataLoader(dataset_s2_train, batch_size=16, shuffle=False)\n",
    "test_loader = DataLoader(dataset_s2_valid, batch_size=16, shuffle=False)"
   ]
  },
  {
   "cell_type": "code",
   "execution_count": 252,
   "metadata": {},
   "outputs": [
    {
     "name": "stdout",
     "output_type": "stream",
     "text": [
      "Epoch 1 | Train loss: 1.406 | Train Cor: 0.067 | Valid loss: 0.857 | Valid Cor: 0.10999424902461634\n",
      "Epoch 2 | Train loss: 0.930 | Train Cor: 0.116 | Valid loss: 0.840 | Valid Cor: 0.22931718917253366\n",
      "Epoch 3 | Train loss: 0.854 | Train Cor: 0.211 | Valid loss: 0.820 | Valid Cor: 0.27820038359262156\n",
      "Epoch 4 | Train loss: 0.819 | Train Cor: 0.264 | Valid loss: 0.800 | Valid Cor: 0.318585872717759\n",
      "Epoch 5 | Train loss: 0.791 | Train Cor: 0.313 | Valid loss: 0.779 | Valid Cor: 0.3570175457786615\n",
      "Epoch 6 | Train loss: 0.772 | Train Cor: 0.347 | Valid loss: 0.760 | Valid Cor: 0.39802852239557496\n",
      "Epoch 7 | Train loss: 0.740 | Train Cor: 0.390 | Valid loss: 0.734 | Valid Cor: 0.4182370203873644\n",
      "Epoch 8 | Train loss: 0.696 | Train Cor: 0.453 | Valid loss: 0.716 | Valid Cor: 0.4299283380680379\n",
      "Epoch 9 | Train loss: 0.664 | Train Cor: 0.490 | Valid loss: 0.709 | Valid Cor: 0.44443828313937417\n",
      "Epoch 10 | Train loss: 0.651 | Train Cor: 0.500 | Valid loss: 0.710 | Valid Cor: 0.45896537551883\n",
      "Epoch 11 | Train loss: 0.626 | Train Cor: 0.529 | Valid loss: 0.699 | Valid Cor: 0.4678876807334594\n",
      "Epoch 12 | Train loss: 0.604 | Train Cor: 0.553 | Valid loss: 0.693 | Valid Cor: 0.4700737135729862\n",
      "Epoch 13 | Train loss: 0.581 | Train Cor: 0.576 | Valid loss: 0.690 | Valid Cor: 0.4765288254159453\n",
      "Epoch 14 | Train loss: 0.575 | Train Cor: 0.577 | Valid loss: 0.697 | Valid Cor: 0.483632782743785\n",
      "Epoch 15 | Train loss: 0.565 | Train Cor: 0.586 | Valid loss: 0.684 | Valid Cor: 0.4836848148619998\n",
      "Epoch 16 | Train loss: 0.551 | Train Cor: 0.600 | Valid loss: 0.689 | Valid Cor: 0.4867129768041692\n",
      "Epoch 17 | Train loss: 0.551 | Train Cor: 0.605 | Valid loss: 0.686 | Valid Cor: 0.4952382648021967\n",
      "Epoch 18 | Train loss: 0.525 | Train Cor: 0.627 | Valid loss: 0.688 | Valid Cor: 0.4891211437556176\n",
      "Epoch 19 | Train loss: 0.538 | Train Cor: 0.618 | Valid loss: 0.675 | Valid Cor: 0.49645929536946465\n",
      "Epoch 20 | Train loss: 0.528 | Train Cor: 0.624 | Valid loss: 0.699 | Valid Cor: 0.49219288057890687\n",
      "Epoch 21 | Train loss: 0.517 | Train Cor: 0.635 | Valid loss: 0.694 | Valid Cor: 0.490327888896627\n",
      "Epoch 22 | Train loss: 0.527 | Train Cor: 0.624 | Valid loss: 0.689 | Valid Cor: 0.4992908983626114\n",
      "Epoch 23 | Train loss: 0.509 | Train Cor: 0.643 | Valid loss: 0.686 | Valid Cor: 0.5031830459695409\n",
      "Epoch 24 | Train loss: 0.500 | Train Cor: 0.645 | Valid loss: 0.678 | Valid Cor: 0.5023735397107285\n",
      "Epoch 25 | Train loss: 0.515 | Train Cor: 0.635 | Valid loss: 0.696 | Valid Cor: 0.5036688798154978\n",
      "Epoch 26 | Train loss: 0.508 | Train Cor: 0.639 | Valid loss: 0.685 | Valid Cor: 0.49607389374465105\n",
      "Epoch 27 | Train loss: 0.494 | Train Cor: 0.652 | Valid loss: 0.689 | Valid Cor: 0.49680327875549385\n",
      "Epoch 28 | Train loss: 0.498 | Train Cor: 0.650 | Valid loss: 0.689 | Valid Cor: 0.5023779550767451\n",
      "Epoch 29 | Train loss: 0.487 | Train Cor: 0.654 | Valid loss: 0.689 | Valid Cor: 0.5095117234922364\n",
      "Epoch 30 | Train loss: 0.497 | Train Cor: 0.652 | Valid loss: 0.697 | Valid Cor: 0.5048146645355414\n",
      "Epoch 31 | Train loss: 0.479 | Train Cor: 0.665 | Valid loss: 0.692 | Valid Cor: 0.5168972412708416\n",
      "Epoch 32 | Train loss: 0.470 | Train Cor: 0.669 | Valid loss: 0.686 | Valid Cor: 0.5006901409054861\n",
      "Epoch 33 | Train loss: 0.481 | Train Cor: 0.660 | Valid loss: 0.693 | Valid Cor: 0.506397707829796\n",
      "Epoch 34 | Train loss: 0.477 | Train Cor: 0.666 | Valid loss: 0.695 | Valid Cor: 0.49805967262136686\n",
      "Epoch 35 | Train loss: 0.467 | Train Cor: 0.672 | Valid loss: 0.682 | Valid Cor: 0.5114640989688589\n",
      "Epoch 36 | Train loss: 0.470 | Train Cor: 0.671 | Valid loss: 0.692 | Valid Cor: 0.5059516903162142\n",
      "Epoch 37 | Train loss: 0.465 | Train Cor: 0.678 | Valid loss: 0.700 | Valid Cor: 0.49657460578181967\n",
      "Epoch 38 | Train loss: 0.460 | Train Cor: 0.678 | Valid loss: 0.695 | Valid Cor: 0.5006021425471725\n",
      "Epoch 39 | Train loss: 0.474 | Train Cor: 0.670 | Valid loss: 0.688 | Valid Cor: 0.502306285725948\n",
      "Epoch 40 | Train loss: 0.457 | Train Cor: 0.680 | Valid loss: 0.688 | Valid Cor: 0.5090383425792379\n",
      "Epoch 41 | Train loss: 0.449 | Train Cor: 0.687 | Valid loss: 0.696 | Valid Cor: 0.49860558287112267\n",
      "Epoch 42 | Train loss: 0.461 | Train Cor: 0.675 | Valid loss: 0.708 | Valid Cor: 0.502560038087762\n",
      "Epoch 43 | Train loss: 0.442 | Train Cor: 0.691 | Valid loss: 0.696 | Valid Cor: 0.5044731703097944\n",
      "Epoch 44 | Train loss: 0.464 | Train Cor: 0.675 | Valid loss: 0.684 | Valid Cor: 0.5063427883201331\n",
      "Epoch 45 | Train loss: 0.455 | Train Cor: 0.680 | Valid loss: 0.693 | Valid Cor: 0.4982982753297307\n",
      "Epoch 46 | Train loss: 0.448 | Train Cor: 0.686 | Valid loss: 0.688 | Valid Cor: 0.508086217053552\n",
      "Epoch 47 | Train loss: 0.463 | Train Cor: 0.673 | Valid loss: 0.687 | Valid Cor: 0.5044084765204895\n",
      "Epoch 48 | Train loss: 0.446 | Train Cor: 0.685 | Valid loss: 0.686 | Valid Cor: 0.5026413136004336\n",
      "Epoch 49 | Train loss: 0.455 | Train Cor: 0.686 | Valid loss: 0.706 | Valid Cor: 0.4904137217796822\n",
      "Epoch 50 | Train loss: 0.444 | Train Cor: 0.686 | Valid loss: 0.688 | Valid Cor: 0.5014325202759153\n"
     ]
    }
   ],
   "source": [
    "net = FingerRegressor(R_train.shape[1], 4).to(device)\n",
    "\n",
    "criterion = nn.MSELoss()\n",
    "optimizer = optim.Adam(net.parameters())\n",
    "\n",
    "\n",
    "for epoch in range(50):  # loop over the dataset multiple times\n",
    "    net.train()\n",
    "    running_loss = 0.0\n",
    "    correct = 0\n",
    "    total = 0\n",
    "    pred = []\n",
    "    for (i, (ecog, dg)) in enumerate(train_loader):\n",
    "        # print(ecog.shape)\n",
    "        ecog = ecog.to(device)\n",
    "        dg = dg.to(device)\n",
    "        output = net(ecog)\n",
    "        pred += [output.detach().cpu().numpy()]\n",
    "        loss = criterion(output, dg)\n",
    "        # print (loss)\n",
    "        optimizer.zero_grad()\n",
    "        loss.backward()\n",
    "        optimizer.step()\n",
    "        running_loss += loss.item()\n",
    "\n",
    "    pred = np.concatenate(pred)\n",
    "    train_cor = correlation_dl(sig.resample(pred, len(data_glove_2_train)), data_glove_2_train)[1]\n",
    "    train_loss = running_loss / len(train_loader)\n",
    "    # train_acc = correct / total\n",
    "    \n",
    "    net.eval()\n",
    "    with torch.no_grad():\n",
    "        running_loss = 0.0\n",
    "        correct = 0\n",
    "        total = 0\n",
    "        pred = []\n",
    "        for (i, (ecog, dg)) in enumerate(test_loader):\n",
    "            ecog = ecog.to(device)\n",
    "            dg = dg.to(device)\n",
    "            output = net(ecog).to(device)\n",
    "            pred += [output.detach().cpu().numpy()]\n",
    "            loss = criterion(output, dg)\n",
    "            running_loss += loss.item()\n",
    "\n",
    "        pred = np.concatenate(pred)\n",
    "        val_cor = correlation_dl(sig.resample(pred, len(dg_2_valid)), dg_2_valid)[1]\n",
    "        \n",
    "        valid_loss = running_loss / len(test_loader)\n",
    "    # print(f'Epoch {epoch + 1} | Train loss: {train_loss:.3f} | Train Acc: {train_acc:.3f} | Valid loss: {valid_loss:.3f} | Valid Acc: {val_cor}')\n",
    "    print(f'Epoch {epoch + 1} | Train loss: {train_loss:.3f} | Train Cor: {train_cor:.3f} | Valid loss: {valid_loss:.3f} | Valid Cor: {val_cor}')\n",
    "    # break"
   ]
  },
  {
   "cell_type": "code",
   "execution_count": 231,
   "metadata": {},
   "outputs": [],
   "source": [
    "np.save('./models/train_mean_S2', train_mean_S2)\n",
    "np.save('./models/train_std_S2', train_std_S2)\n",
    "torch.save(net.state_dict(), './models/NN_S2.pth')"
   ]
  },
  {
   "cell_type": "code",
   "execution_count": 253,
   "metadata": {},
   "outputs": [
    {
     "name": "stderr",
     "output_type": "stream",
     "text": [
      "/opt/conda/envs/pytorch/lib/python3.9/site-packages/scipy/signal/_spectral_py.py:2014: UserWarning: nperseg = 256 is greater than input length  = 64, using nperseg = 64\n",
      "  warnings.warn('nperseg = {0:d} is greater than input length '\n",
      "/opt/conda/envs/pytorch/lib/python3.9/site-packages/sklearn/feature_selection/_univariate_selection.py:289: RuntimeWarning: divide by zero encountered in divide\n",
      "  correlation_coefficient /= X_norms\n",
      "/opt/conda/envs/pytorch/lib/python3.9/site-packages/sklearn/feature_selection/_univariate_selection.py:289: RuntimeWarning: invalid value encountered in divide\n",
      "  correlation_coefficient /= X_norms\n",
      "/opt/conda/envs/pytorch/lib/python3.9/site-packages/sklearn/feature_selection/_univariate_selection.py:358: RuntimeWarning: invalid value encountered in divide\n",
      "  f_statistic = corr_coef_squared / (1 - corr_coef_squared) * deg_of_freedom\n",
      "/opt/conda/envs/pytorch/lib/python3.9/site-packages/sklearn/feature_selection/_univariate_selection.py:289: RuntimeWarning: divide by zero encountered in divide\n",
      "  correlation_coefficient /= X_norms\n",
      "/opt/conda/envs/pytorch/lib/python3.9/site-packages/sklearn/feature_selection/_univariate_selection.py:289: RuntimeWarning: invalid value encountered in divide\n",
      "  correlation_coefficient /= X_norms\n",
      "/opt/conda/envs/pytorch/lib/python3.9/site-packages/sklearn/feature_selection/_univariate_selection.py:358: RuntimeWarning: invalid value encountered in divide\n",
      "  f_statistic = corr_coef_squared / (1 - corr_coef_squared) * deg_of_freedom\n",
      "/opt/conda/envs/pytorch/lib/python3.9/site-packages/sklearn/feature_selection/_univariate_selection.py:289: RuntimeWarning: divide by zero encountered in divide\n",
      "  correlation_coefficient /= X_norms\n",
      "/opt/conda/envs/pytorch/lib/python3.9/site-packages/sklearn/feature_selection/_univariate_selection.py:289: RuntimeWarning: invalid value encountered in divide\n",
      "  correlation_coefficient /= X_norms\n",
      "/opt/conda/envs/pytorch/lib/python3.9/site-packages/sklearn/feature_selection/_univariate_selection.py:358: RuntimeWarning: invalid value encountered in divide\n",
      "  f_statistic = corr_coef_squared / (1 - corr_coef_squared) * deg_of_freedom\n"
     ]
    },
    {
     "name": "stdout",
     "output_type": "stream",
     "text": [
      "(599,)\n"
     ]
    },
    {
     "name": "stderr",
     "output_type": "stream",
     "text": [
      "/opt/conda/envs/pytorch/lib/python3.9/site-packages/sklearn/feature_selection/_univariate_selection.py:289: RuntimeWarning: divide by zero encountered in divide\n",
      "  correlation_coefficient /= X_norms\n",
      "/opt/conda/envs/pytorch/lib/python3.9/site-packages/sklearn/feature_selection/_univariate_selection.py:289: RuntimeWarning: invalid value encountered in divide\n",
      "  correlation_coefficient /= X_norms\n",
      "/opt/conda/envs/pytorch/lib/python3.9/site-packages/sklearn/feature_selection/_univariate_selection.py:358: RuntimeWarning: invalid value encountered in divide\n",
      "  f_statistic = corr_coef_squared / (1 - corr_coef_squared) * deg_of_freedom\n"
     ]
    }
   ],
   "source": [
    "# Compute the R matrix for the training data\n",
    "feature_train = get_windowed_feats(ecog_3_train, 1000, winLen, winOverlap)\n",
    "# R_train = create_R_matrix(feature_train, 5)\n",
    "\n",
    "feature_test = get_windowed_feats(ecog_3_valid, 1000, winLen, winOverlap)\n",
    "# R_test = create_R_matrix(feature_test, 5)\n",
    "\n",
    "# Downsample the glove data\n",
    "Y_train = data_glove_3_train\n",
    "Y_test = dg_3_valid\n",
    "Y_train = sig.resample(Y_train, feature_train.shape[0], axis=0)\n",
    "Y_test = sig.resample(Y_test, feature_test.shape[0], axis=0)\n",
    "\n",
    "R_train = create_R_matrix(feature_train, 20)\n",
    "R_test = create_R_matrix(feature_test, 20)\n",
    "\n",
    "idx_3 = feature_selection(R_train, Y_train, 800)\n",
    "print(idx_3.shape)\n",
    "\n",
    "R_train = R_train[:, idx_3]\n",
    "train_mean_S3 = R_train.mean(axis=0)\n",
    "train_std_S3 = R_train.std(axis=0)\n",
    "R_train = (R_train - train_mean_S3) / train_std_S3\n",
    "R_test = R_test[:, idx_3]\n",
    "R_test = (R_test - train_mean_S3) / train_std_S3"
   ]
  },
  {
   "cell_type": "code",
   "execution_count": 254,
   "metadata": {},
   "outputs": [],
   "source": [
    "dataset_s3_train = FingerFeatureDataset(R_train.copy(), Y_train.copy())\n",
    "dataset_s3_valid = FingerFeatureDataset(R_test.copy(), Y_test.copy())\n",
    "\n",
    "train_loader = DataLoader(dataset_s3_train, batch_size=16, shuffle=False)\n",
    "test_loader = DataLoader(dataset_s3_valid, batch_size=16, shuffle=False)"
   ]
  },
  {
   "cell_type": "code",
   "execution_count": 255,
   "metadata": {},
   "outputs": [
    {
     "name": "stdout",
     "output_type": "stream",
     "text": [
      "Epoch 1 | Train loss: 1.264 | Train Cor: 0.208 | Valid loss: 0.743 | Valid Cor: 0.4323862838489152\n",
      "Epoch 2 | Train loss: 0.785 | Train Cor: 0.390 | Valid loss: 0.658 | Valid Cor: 0.5395432064631827\n",
      "Epoch 3 | Train loss: 0.699 | Train Cor: 0.477 | Valid loss: 0.624 | Valid Cor: 0.5937485148541204\n",
      "Epoch 4 | Train loss: 0.639 | Train Cor: 0.537 | Valid loss: 0.579 | Valid Cor: 0.6361248991532389\n",
      "Epoch 5 | Train loss: 0.600 | Train Cor: 0.573 | Valid loss: 0.556 | Valid Cor: 0.6634937581830748\n",
      "Epoch 6 | Train loss: 0.587 | Train Cor: 0.587 | Valid loss: 0.545 | Valid Cor: 0.6697229168095273\n",
      "Epoch 7 | Train loss: 0.556 | Train Cor: 0.609 | Valid loss: 0.517 | Valid Cor: 0.6880726554750644\n",
      "Epoch 8 | Train loss: 0.525 | Train Cor: 0.633 | Valid loss: 0.519 | Valid Cor: 0.6915970866385359\n",
      "Epoch 9 | Train loss: 0.520 | Train Cor: 0.637 | Valid loss: 0.523 | Valid Cor: 0.6920785880194047\n",
      "Epoch 10 | Train loss: 0.515 | Train Cor: 0.641 | Valid loss: 0.498 | Valid Cor: 0.7059894138856222\n",
      "Epoch 11 | Train loss: 0.506 | Train Cor: 0.648 | Valid loss: 0.503 | Valid Cor: 0.7055124841806251\n",
      "Epoch 12 | Train loss: 0.478 | Train Cor: 0.671 | Valid loss: 0.498 | Valid Cor: 0.707322387145453\n",
      "Epoch 13 | Train loss: 0.475 | Train Cor: 0.673 | Valid loss: 0.484 | Valid Cor: 0.7174650524836423\n",
      "Epoch 14 | Train loss: 0.469 | Train Cor: 0.681 | Valid loss: 0.485 | Valid Cor: 0.7195744743915375\n",
      "Epoch 15 | Train loss: 0.459 | Train Cor: 0.688 | Valid loss: 0.483 | Valid Cor: 0.7166431602127611\n",
      "Epoch 16 | Train loss: 0.453 | Train Cor: 0.693 | Valid loss: 0.466 | Valid Cor: 0.7230614474616803\n",
      "Epoch 17 | Train loss: 0.457 | Train Cor: 0.692 | Valid loss: 0.465 | Valid Cor: 0.7234010245683895\n",
      "Epoch 18 | Train loss: 0.442 | Train Cor: 0.704 | Valid loss: 0.467 | Valid Cor: 0.7227398530382916\n",
      "Epoch 19 | Train loss: 0.445 | Train Cor: 0.702 | Valid loss: 0.470 | Valid Cor: 0.7227252060349479\n",
      "Epoch 20 | Train loss: 0.440 | Train Cor: 0.704 | Valid loss: 0.470 | Valid Cor: 0.7255660946770605\n",
      "Epoch 21 | Train loss: 0.437 | Train Cor: 0.707 | Valid loss: 0.454 | Valid Cor: 0.7320416575472758\n",
      "Epoch 22 | Train loss: 0.431 | Train Cor: 0.713 | Valid loss: 0.460 | Valid Cor: 0.7262452327502185\n",
      "Epoch 23 | Train loss: 0.415 | Train Cor: 0.726 | Valid loss: 0.465 | Valid Cor: 0.7236281962572315\n",
      "Epoch 24 | Train loss: 0.410 | Train Cor: 0.731 | Valid loss: 0.455 | Valid Cor: 0.7265512133351109\n",
      "Epoch 25 | Train loss: 0.407 | Train Cor: 0.733 | Valid loss: 0.457 | Valid Cor: 0.7255576926259963\n",
      "Epoch 26 | Train loss: 0.419 | Train Cor: 0.724 | Valid loss: 0.457 | Valid Cor: 0.7253338382107226\n",
      "Epoch 27 | Train loss: 0.409 | Train Cor: 0.733 | Valid loss: 0.457 | Valid Cor: 0.7267824403983033\n",
      "Epoch 28 | Train loss: 0.407 | Train Cor: 0.732 | Valid loss: 0.448 | Valid Cor: 0.7340993333200065\n",
      "Epoch 29 | Train loss: 0.401 | Train Cor: 0.738 | Valid loss: 0.455 | Valid Cor: 0.7260341161499283\n",
      "Epoch 30 | Train loss: 0.399 | Train Cor: 0.739 | Valid loss: 0.453 | Valid Cor: 0.7309176386088269\n"
     ]
    }
   ],
   "source": [
    "# net = EEGNet().to(device)\n",
    "# net = EEGNetRegressor(4).to(device)\n",
    "# net = EEGNet(n_classes=4, channels=62, samples=3000).to(device) #.cuda(0)\n",
    "net = FingerRegressor(R_train.shape[1], 4).to(device)\n",
    "#print (net.forward(Variable(torch.Tensor(np.random.rand(1, 1, 120, 64)))))#.cuda(0))))\n",
    "criterion = nn.MSELoss()\n",
    "optimizer = optim.Adam(net.parameters())\n",
    "\n",
    "\n",
    "for epoch in range(30):  # loop over the dataset multiple times\n",
    "    net.train()\n",
    "    running_loss = 0.0\n",
    "    correct = 0\n",
    "    total = 0\n",
    "    pred = []\n",
    "    for (i, (ecog, dg)) in enumerate(train_loader):\n",
    "        # print(ecog.shape)\n",
    "        ecog = ecog.to(device)\n",
    "        dg = dg.to(device)\n",
    "        output = net(ecog)\n",
    "        pred += [output.detach().cpu().numpy()]\n",
    "        loss = criterion(output, dg)\n",
    "        # print (loss)\n",
    "        optimizer.zero_grad()\n",
    "        loss.backward()\n",
    "        optimizer.step()\n",
    "        running_loss += loss.item()\n",
    "\n",
    "    pred = np.concatenate(pred)\n",
    "    train_cor = correlation_dl(sig.resample(pred, len(data_glove_3_train)), data_glove_3_train)[1]\n",
    "    train_loss = running_loss / len(train_loader)\n",
    "    # train_acc = correct / total\n",
    "    \n",
    "    net.eval()\n",
    "    with torch.no_grad():\n",
    "        running_loss = 0.0\n",
    "        correct = 0\n",
    "        total = 0\n",
    "        pred = []\n",
    "        for (i, (ecog, dg)) in enumerate(test_loader):\n",
    "            ecog = ecog.to(device)\n",
    "            dg = dg.to(device)\n",
    "            output = net(ecog).to(device)\n",
    "            pred += [output.detach().cpu().numpy()]\n",
    "            loss = criterion(output, dg)\n",
    "            running_loss += loss.item()\n",
    "\n",
    "        pred = np.concatenate(pred)\n",
    "        val_cor = correlation_dl(sig.resample(pred, len(dg_3_valid)), dg_3_valid)[1]\n",
    "        \n",
    "        valid_loss = running_loss / len(test_loader)\n",
    "    # print(f'Epoch {epoch + 1} | Train loss: {train_loss:.3f} | Train Acc: {train_acc:.3f} | Valid loss: {valid_loss:.3f} | Valid Acc: {val_cor}')\n",
    "    print(f'Epoch {epoch + 1} | Train loss: {train_loss:.3f} | Train Cor: {train_cor:.3f} | Valid loss: {valid_loss:.3f} | Valid Cor: {val_cor}')\n",
    "    # break"
   ]
  },
  {
   "cell_type": "code",
   "execution_count": 112,
   "metadata": {},
   "outputs": [],
   "source": [
    "np.save('./models/train_mean_S3', train_mean_S3)\n",
    "np.save('./models/train_std_S3', train_std_S3)\n",
    "torch.save(net.state_dict(), './models/NN_S3.pth')"
   ]
  },
  {
   "cell_type": "code",
   "execution_count": 115,
   "metadata": {},
   "outputs": [
    {
     "name": "stderr",
     "output_type": "stream",
     "text": [
      "/opt/conda/envs/pytorch/lib/python3.9/site-packages/scipy/signal/_spectral_py.py:2014: UserWarning: nperseg = 256 is greater than input length  = 62, using nperseg = 62\n",
      "  warnings.warn('nperseg = {0:d} is greater than input length '\n",
      "/opt/conda/envs/pytorch/lib/python3.9/site-packages/scipy/signal/_spectral_py.py:2014: UserWarning: nperseg = 256 is greater than input length  = 48, using nperseg = 48\n",
      "  warnings.warn('nperseg = {0:d} is greater than input length '\n",
      "/opt/conda/envs/pytorch/lib/python3.9/site-packages/scipy/signal/_spectral_py.py:2014: UserWarning: nperseg = 256 is greater than input length  = 64, using nperseg = 64\n",
      "  warnings.warn('nperseg = {0:d} is greater than input length '\n"
     ]
    }
   ],
   "source": [
    "ecog_1_leaderboard = ecog_1_comp[500: 500 + 147500]\n",
    "dg_1_leaderboard = dg_1_comp[500: 500 + 147500]\n",
    "\n",
    "ecog_2_leaderboard = ecog_2_comp[500: 500 + 147500]\n",
    "dg_2_leaderboard = dg_2_comp[500: 500 + 147500]\n",
    "\n",
    "ecog_3_leaderboard = ecog_3_comp[500: 500 + 147500]\n",
    "dg_3_leaderboard = dg_3_comp[500: 500 + 147500]\n",
    "\n",
    "winLen = 100 / 1e3\n",
    "winOverlap = 50 / 1e3\n",
    "winDisp = winLen - winOverlap\n",
    "\n",
    "\n",
    "feature_1 = get_windowed_feats(ecog_1_leaderboard, 1000, winLen, winOverlap)\n",
    "# R_1 = create_R_matrix(feature_1, 5)\n",
    "feature_2 = get_windowed_feats(ecog_2_leaderboard, 1000, winLen, winOverlap)\n",
    "# R_2 = create_R_matrix(feature_2, 5)\n",
    "feature_3 = get_windowed_feats(ecog_3_leaderboard, 1000, winLen, winOverlap)\n",
    "# R_3 = create_R_matrix(feature_3, 5)\n",
    "\n",
    "# idx_1 = np.load('./models/idx_S1.npy')\n",
    "# idx_2 = np.load('./models/idx_S2.npy')\n",
    "# idx_3 = np.load('./models/idx_S3.npy')\n",
    "\n",
    "R_1 = create_R_matrix(feature_1, 20)[:, idx_1]\n",
    "R_2 = create_R_matrix(feature_2, 20)[:, idx_2]\n",
    "R_3 = create_R_matrix(feature_3, 20)[:, idx_3]\n"
   ]
  },
  {
   "cell_type": "code",
   "execution_count": 116,
   "metadata": {},
   "outputs": [],
   "source": [
    "train_mean_S1 = np.load('./models/train_mean_S1.npy')\n",
    "train_std_S1 = np.load('./models/train_std_S1.npy')\n",
    "\n",
    "train_mean_S2 = np.load('./models/train_mean_S2.npy')\n",
    "train_std_S2 = np.load('./models/train_std_S2.npy')\n",
    "\n",
    "train_mean_S3 = np.load('./models/train_mean_S3.npy')\n",
    "train_std_S3 = np.load('./models/train_std_S3.npy')"
   ]
  },
  {
   "cell_type": "code",
   "execution_count": 117,
   "metadata": {},
   "outputs": [
    {
     "data": {
      "text/plain": [
       "0.5553528686861728"
      ]
     },
     "execution_count": 117,
     "metadata": {},
     "output_type": "execute_result"
    }
   ],
   "source": [
    "leaderboard_dataset = FingerFeatureDataset((R_1 - train_mean_S1) / train_std_S1, np.zeros(R_1.shape[0]).copy())\n",
    "dataloader = DataLoader(leaderboard_dataset, batch_size=16, shuffle=False)\n",
    "\n",
    "net = FingerRegressor(R_1.shape[1], 4).to(device)\n",
    "net.load_state_dict(torch.load('./models/NN_S1.pth'))\n",
    "\n",
    "with torch.no_grad():\n",
    "    pred = []\n",
    "    net.eval()\n",
    "    for i, (ecog, dg) in enumerate(dataloader):\n",
    "        ecog = ecog.to(device)\n",
    "        dg = dg.to(device)\n",
    "        output = net(ecog).to(device)\n",
    "        pred += [output.detach().cpu().numpy()]\n",
    "\n",
    "    pred = np.concatenate(pred)\n",
    "correlation_dl(sig.resample(pred, len(dg_1_leaderboard)), dg_1_leaderboard)[1]"
   ]
  },
  {
   "cell_type": "code",
   "execution_count": 118,
   "metadata": {},
   "outputs": [
    {
     "data": {
      "text/plain": [
       "0.5654337122490332"
      ]
     },
     "execution_count": 118,
     "metadata": {},
     "output_type": "execute_result"
    }
   ],
   "source": [
    "leaderboard_dataset = FingerFeatureDataset((R_2 - train_mean_S2) / train_std_S2, np.zeros(R_2.shape[0]).copy())\n",
    "dataloader = DataLoader(leaderboard_dataset, batch_size=16, shuffle=False)\n",
    "\n",
    "net = FingerRegressor(R_2.shape[1], 4).to(device)\n",
    "net.load_state_dict(torch.load('./models/NN_S2.pth'))\n",
    "\n",
    "with torch.no_grad():\n",
    "    pred = []\n",
    "    net.eval()\n",
    "    for i, (ecog, dg) in enumerate(dataloader):\n",
    "        ecog = ecog.to(device)\n",
    "        dg = dg.to(device)\n",
    "        output = net(ecog).to(device)\n",
    "        pred += [output.detach().cpu().numpy()]\n",
    "\n",
    "    pred = np.concatenate(pred)\n",
    "correlation_dl(sig.resample(pred, len(dg_2_leaderboard)), dg_2_leaderboard)[1]"
   ]
  },
  {
   "cell_type": "code",
   "execution_count": 119,
   "metadata": {},
   "outputs": [
    {
     "data": {
      "text/plain": [
       "0.6924273174017038"
      ]
     },
     "execution_count": 119,
     "metadata": {},
     "output_type": "execute_result"
    }
   ],
   "source": [
    "leaderboard_dataset = FingerFeatureDataset((R_3 - train_mean_S3) / train_std_S3, np.zeros(R_3.shape[0]).copy())\n",
    "dataloader = DataLoader(leaderboard_dataset, batch_size=16, shuffle=False)\n",
    "\n",
    "net = FingerRegressor(R_3.shape[1], 4).to(device)\n",
    "net.load_state_dict(torch.load('./models/NN_S3.pth'))\n",
    "\n",
    "with torch.no_grad():\n",
    "    pred = []\n",
    "    net.eval()\n",
    "    for i, (ecog, dg) in enumerate(dataloader):\n",
    "        ecog = ecog.to(device)\n",
    "        dg = dg.to(device)\n",
    "        output = net(ecog).to(device)\n",
    "        pred += [output.detach().cpu().numpy()]\n",
    "\n",
    "    pred = np.concatenate(pred)\n",
    "correlation_dl(sig.resample(pred, len(dg_3_leaderboard)), dg_3_leaderboard)[1]"
   ]
  },
  {
   "cell_type": "code",
   "execution_count": null,
   "metadata": {},
   "outputs": [],
   "source": []
  },
  {
   "cell_type": "code",
   "execution_count": null,
   "metadata": {},
   "outputs": [],
   "source": []
  }
 ],
 "metadata": {
  "kernelspec": {
   "display_name": "Python 3 (ipykernel)",
   "language": "python",
   "name": "python3"
  },
  "language_info": {
   "codemirror_mode": {
    "name": "ipython",
    "version": 3
   },
   "file_extension": ".py",
   "mimetype": "text/x-python",
   "name": "python",
   "nbconvert_exporter": "python",
   "pygments_lexer": "ipython3",
   "version": "3.9.16"
  }
 },
 "nbformat": 4,
 "nbformat_minor": 2
}
