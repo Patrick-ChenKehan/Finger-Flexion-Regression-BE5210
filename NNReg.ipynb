{
 "cells": [
  {
   "cell_type": "code",
   "execution_count": 1,
   "metadata": {},
   "outputs": [],
   "source": [
    "import numpy as np\n",
    "from sklearn.metrics import roc_auc_score, precision_score, recall_score, accuracy_score\n",
    "import torch\n",
    "import torch.nn as nn\n",
    "import torch.optim as optim\n",
    "from torch.autograd import Variable\n",
    "import torch.nn.functional as F\n",
    "import torch.optim as optim\n",
    "import scipy\n",
    "import scipy.io\n",
    "import matplotlib.pyplot as plt\n",
    "import random\n",
    "import pickle\n",
    "from torch.utils.data import Dataset, DataLoader\n",
    "import scipy.signal as sig\n",
    "from scipy.stats import pearsonr\n",
    "from utils import *"
   ]
  },
  {
   "cell_type": "code",
   "execution_count": 2,
   "metadata": {},
   "outputs": [
    {
     "data": {
      "text/plain": [
       "device(type='cuda', index=0)"
      ]
     },
     "execution_count": 2,
     "metadata": {},
     "output_type": "execute_result"
    }
   ],
   "source": [
    "device = torch.device(0)\n",
    "device"
   ]
  },
  {
   "cell_type": "code",
   "execution_count": 3,
   "metadata": {},
   "outputs": [],
   "source": [
    "raw = scipy.io.loadmat('./datasets/raw_training_data.mat')\n",
    "data_glove_1 = raw['train_dg'][0][0]\n",
    "data_glove_1_train = np.delete(data_glove_1, 3, 1)\n",
    "data_glove_2 = raw['train_dg'][1][0]\n",
    "data_glove_2_train = np.delete(data_glove_2, 3, 1)\n",
    "data_glove_3 = raw['train_dg'][2][0]\n",
    "data_glove_3_train = np.delete(data_glove_3, 3, 1)\n",
    "\n",
    "ecog_1_train = raw['train_ecog'][0][0]\n",
    "ecog_2_train = raw['train_ecog'][1][0]\n",
    "ecog_3_train = raw['train_ecog'][2][0]\n",
    "\n",
    "\n",
    "raw = scipy.io.loadmat('./datasets/sub1_comp.mat')\n",
    "ecog_1_comp = raw['train_data']\n",
    "dg_1_comp = raw['train_dg']\n",
    "ecog_1_valid = raw['test_data'][49000:]\n",
    "\n",
    "raw = scipy.io.loadmat('./datasets/sub2_comp.mat')\n",
    "ecog_2_comp = raw['train_data']\n",
    "dg_2_comp = raw['train_dg']\n",
    "ecog_2_valid = raw['test_data'][49000:]\n",
    "\n",
    "raw = scipy.io.loadmat('./datasets/sub3_comp.mat')\n",
    "ecog_3_comp = raw['train_data']\n",
    "dg_3_comp = raw['train_dg']\n",
    "ecog_3_valid = raw['test_data'][49000:]\n",
    "\n",
    "dg_1_raw = scipy.io.loadmat('./datasets/sub1_testlabels.mat')\n",
    "dg_1_valid = dg_1_raw['test_dg'][49000:]\n",
    "dg_1_valid = np.delete(dg_1_valid, 3, 1)\n",
    "\n",
    "dg_2_raw = scipy.io.loadmat('./datasets/sub2_testlabels.mat')\n",
    "dg_2_valid = dg_2_raw['test_dg'][49000:]\n",
    "dg_2_valid = np.delete(dg_2_valid, 3, 1)\n",
    "\n",
    "dg_3_raw = scipy.io.loadmat('./datasets/sub3_testlabels.mat')\n",
    "dg_3_valid = dg_3_raw['test_dg'][49000:]\n",
    "dg_3_valid = np.delete(dg_3_valid, 3, 1)"
   ]
  },
  {
   "cell_type": "code",
   "execution_count": 4,
   "metadata": {},
   "outputs": [],
   "source": [
    "winLen = 100 / 1e3\n",
    "winOverlap = 50 / 1e3\n",
    "winDisp = winLen - winOverlap"
   ]
  },
  {
   "cell_type": "code",
   "execution_count": 5,
   "metadata": {},
   "outputs": [],
   "source": [
    "class FingerFeatureDataset(Dataset):\n",
    "    def __init__(self, R, dg, window=2000):\n",
    "        self.R = np.float32(R)\n",
    "#         self.R = (self.R - ecog_1_train.mean(axis=0)) / ecog_1_train.std(axis=0)\n",
    "#         self.ecog = self.ecog.reshape(self.ecog.shape[0], 1, -1)\n",
    "        self.dg = np.float32(dg)\n",
    "        \n",
    "    \n",
    "\n",
    "    def __len__(self):\n",
    "        return len(self.R)\n",
    "\n",
    "    def __getitem__(self, idx):\n",
    "        \n",
    "        return self.R[idx], self.dg[idx]"
   ]
  },
  {
   "cell_type": "code",
   "execution_count": 6,
   "metadata": {},
   "outputs": [
    {
     "name": "stderr",
     "output_type": "stream",
     "text": [
      "/opt/conda/envs/pytorch/lib/python3.9/site-packages/scipy/signal/_spectral_py.py:2014: UserWarning: nperseg = 256 is greater than input length  = 62, using nperseg = 62\n",
      "  warnings.warn('nperseg = {0:d} is greater than input length '\n",
      "/opt/conda/envs/pytorch/lib/python3.9/site-packages/sklearn/feature_selection/_univariate_selection.py:289: RuntimeWarning: divide by zero encountered in divide\n",
      "  correlation_coefficient /= X_norms\n",
      "/opt/conda/envs/pytorch/lib/python3.9/site-packages/sklearn/feature_selection/_univariate_selection.py:289: RuntimeWarning: invalid value encountered in divide\n",
      "  correlation_coefficient /= X_norms\n",
      "/opt/conda/envs/pytorch/lib/python3.9/site-packages/sklearn/feature_selection/_univariate_selection.py:358: RuntimeWarning: invalid value encountered in divide\n",
      "  f_statistic = corr_coef_squared / (1 - corr_coef_squared) * deg_of_freedom\n",
      "/opt/conda/envs/pytorch/lib/python3.9/site-packages/sklearn/feature_selection/_univariate_selection.py:289: RuntimeWarning: divide by zero encountered in divide\n",
      "  correlation_coefficient /= X_norms\n",
      "/opt/conda/envs/pytorch/lib/python3.9/site-packages/sklearn/feature_selection/_univariate_selection.py:289: RuntimeWarning: invalid value encountered in divide\n",
      "  correlation_coefficient /= X_norms\n",
      "/opt/conda/envs/pytorch/lib/python3.9/site-packages/sklearn/feature_selection/_univariate_selection.py:358: RuntimeWarning: invalid value encountered in divide\n",
      "  f_statistic = corr_coef_squared / (1 - corr_coef_squared) * deg_of_freedom\n",
      "/opt/conda/envs/pytorch/lib/python3.9/site-packages/sklearn/feature_selection/_univariate_selection.py:289: RuntimeWarning: divide by zero encountered in divide\n",
      "  correlation_coefficient /= X_norms\n",
      "/opt/conda/envs/pytorch/lib/python3.9/site-packages/sklearn/feature_selection/_univariate_selection.py:289: RuntimeWarning: invalid value encountered in divide\n",
      "  correlation_coefficient /= X_norms\n",
      "/opt/conda/envs/pytorch/lib/python3.9/site-packages/sklearn/feature_selection/_univariate_selection.py:358: RuntimeWarning: invalid value encountered in divide\n",
      "  f_statistic = corr_coef_squared / (1 - corr_coef_squared) * deg_of_freedom\n"
     ]
    },
    {
     "name": "stdout",
     "output_type": "stream",
     "text": [
      "(615,)\n"
     ]
    },
    {
     "name": "stderr",
     "output_type": "stream",
     "text": [
      "/opt/conda/envs/pytorch/lib/python3.9/site-packages/sklearn/feature_selection/_univariate_selection.py:289: RuntimeWarning: divide by zero encountered in divide\n",
      "  correlation_coefficient /= X_norms\n",
      "/opt/conda/envs/pytorch/lib/python3.9/site-packages/sklearn/feature_selection/_univariate_selection.py:289: RuntimeWarning: invalid value encountered in divide\n",
      "  correlation_coefficient /= X_norms\n",
      "/opt/conda/envs/pytorch/lib/python3.9/site-packages/sklearn/feature_selection/_univariate_selection.py:358: RuntimeWarning: invalid value encountered in divide\n",
      "  f_statistic = corr_coef_squared / (1 - corr_coef_squared) * deg_of_freedom\n"
     ]
    }
   ],
   "source": [
    "# Compute the R matrix for the training data\n",
    "feature_train = get_windowed_feats(ecog_1_train, 1000, winLen, winOverlap)\n",
    "# R_train = create_R_matrix(feature_train, 5)\n",
    "\n",
    "feature_test = get_windowed_feats(ecog_1_valid, 1000, winLen, winOverlap)\n",
    "# R_test = create_R_matrix(feature_test, 5)\n",
    "\n",
    "# Downsample the glove data\n",
    "Y_train = data_glove_1_train\n",
    "Y_test = dg_1_valid\n",
    "Y_train = sig.resample(Y_train, feature_train.shape[0], axis=0)\n",
    "Y_test = sig.resample(Y_test, feature_test.shape[0], axis=0)\n",
    "\n",
    "R_train = create_R_matrix(feature_train, 20)\n",
    "R_test = create_R_matrix(feature_test, 20)\n",
    "\n",
    "idx_1 = feature_selection(R_train, Y_train, 800)\n",
    "print(idx_1.shape)\n",
    "\n",
    "R_train = R_train[:, idx_1]\n",
    "train_mean_S1 = R_train.mean(axis=0)\n",
    "train_std_S1 = R_train.std(axis=0)\n",
    "R_train = (R_train - train_mean_S1) / train_std_S1\n",
    "R_test = R_test[:, idx_1]\n",
    "R_test = (R_test - train_mean_S1) / train_std_S1"
   ]
  },
  {
   "cell_type": "code",
   "execution_count": 7,
   "metadata": {},
   "outputs": [],
   "source": [
    "dataset_s1_train = FingerFeatureDataset(R_train.copy(), Y_train.copy())\n",
    "dataset_s1_valid = FingerFeatureDataset(R_test.copy(), Y_test.copy())\n",
    "\n",
    "train_loader = DataLoader(dataset_s1_train, batch_size=16, shuffle=False)\n",
    "test_loader = DataLoader(dataset_s1_valid, batch_size=16, shuffle=False)"
   ]
  },
  {
   "cell_type": "code",
   "execution_count": 8,
   "metadata": {},
   "outputs": [],
   "source": [
    "class FingerRegressor(nn.Module):\n",
    "    def __init__(self, num_features, num_fingers) -> None:\n",
    "        super(FingerRegressor, self).__init__()\n",
    "        self.flatten = nn.Flatten()\n",
    "        \n",
    "        self.fc1 = nn.Linear(num_features, 8)\n",
    "        self.fc2 = nn.Linear(64, 8)\n",
    "#         self.fc3 = nn.Linear(16, 8)\n",
    "        self.fc4 = nn.Linear(8, num_fingers)\n",
    "        \n",
    "        self.relu = nn.ReLU()\n",
    "        \n",
    "        nn.init.xavier_normal_(self.fc1.weight)\n",
    "#         nn.init.xavier_normal_(self.fc2.weight)\n",
    "#         nn.init.xavier_normal_(self.fc3.weight)\n",
    "        nn.init.xavier_normal_(self.fc4.weight)\n",
    "        self.dropout1 = nn.Dropout(0.3)\n",
    "        self.dropout2 = nn.Dropout(0.15)\n",
    "        \n",
    "    def forward(self, x):\n",
    "#         x = self.bn(x)\n",
    "        x = self.dropout1(x)\n",
    "#         x = self.relu(self.conv1(x))\n",
    "#         x = self.pool1(x)\n",
    "        \n",
    "#         x= self.dropout2(x)\n",
    "        \n",
    "#         x = self.flatten(x)\n",
    "        \n",
    "        x = self.relu(self.fc1(x))\n",
    "        \n",
    "        x = self.dropout2(x)\n",
    "#         x = self.relu(self.fc2(x))\n",
    "#         x = self.dropout2(x)\n",
    "#         x = self.relu(self.fc3(x))\n",
    "#         x = self.dropout2(x)\n",
    "        output = self.fc4(x)\n",
    "        \n",
    "        return output"
   ]
  },
  {
   "cell_type": "code",
   "execution_count": 9,
   "metadata": {},
   "outputs": [
    {
     "name": "stdout",
     "output_type": "stream",
     "text": [
      "Epoch 1 | Train loss: 2.281 | Train Cor: 0.126 | Valid loss: 1.044 | Valid Cor: 0.2404475125154465\n",
      "Epoch 2 | Train loss: 1.114 | Train Cor: 0.239 | Valid loss: 0.842 | Valid Cor: 0.31760778510735566\n",
      "Epoch 3 | Train loss: 0.900 | Train Cor: 0.317 | Valid loss: 0.770 | Valid Cor: 0.3814820128492558\n",
      "Epoch 4 | Train loss: 0.804 | Train Cor: 0.379 | Valid loss: 0.735 | Valid Cor: 0.4214466057341949\n",
      "Epoch 5 | Train loss: 0.755 | Train Cor: 0.418 | Valid loss: 0.728 | Valid Cor: 0.44714215037210897\n",
      "Epoch 6 | Train loss: 0.720 | Train Cor: 0.461 | Valid loss: 0.720 | Valid Cor: 0.4688829471821962\n",
      "Epoch 7 | Train loss: 0.681 | Train Cor: 0.506 | Valid loss: 0.718 | Valid Cor: 0.4744904883629145\n",
      "Epoch 8 | Train loss: 0.658 | Train Cor: 0.533 | Valid loss: 0.714 | Valid Cor: 0.4889711214550445\n",
      "Epoch 9 | Train loss: 0.640 | Train Cor: 0.554 | Valid loss: 0.718 | Valid Cor: 0.49460465972324297\n",
      "Epoch 10 | Train loss: 0.619 | Train Cor: 0.575 | Valid loss: 0.711 | Valid Cor: 0.5015334296274141\n",
      "Epoch 11 | Train loss: 0.607 | Train Cor: 0.589 | Valid loss: 0.712 | Valid Cor: 0.5029969730770478\n",
      "Epoch 12 | Train loss: 0.598 | Train Cor: 0.597 | Valid loss: 0.711 | Valid Cor: 0.5151619834110958\n",
      "Epoch 13 | Train loss: 0.592 | Train Cor: 0.603 | Valid loss: 0.715 | Valid Cor: 0.5145601314811852\n",
      "Epoch 14 | Train loss: 0.582 | Train Cor: 0.612 | Valid loss: 0.718 | Valid Cor: 0.5162003272386803\n",
      "Epoch 15 | Train loss: 0.591 | Train Cor: 0.603 | Valid loss: 0.722 | Valid Cor: 0.5165705941753318\n",
      "Epoch 16 | Train loss: 0.579 | Train Cor: 0.616 | Valid loss: 0.727 | Valid Cor: 0.5168120136626317\n",
      "Epoch 17 | Train loss: 0.569 | Train Cor: 0.624 | Valid loss: 0.726 | Valid Cor: 0.5192353517948713\n",
      "Epoch 18 | Train loss: 0.570 | Train Cor: 0.623 | Valid loss: 0.727 | Valid Cor: 0.51816084518769\n",
      "Epoch 19 | Train loss: 0.572 | Train Cor: 0.621 | Valid loss: 0.730 | Valid Cor: 0.5188028253088582\n",
      "Epoch 20 | Train loss: 0.573 | Train Cor: 0.621 | Valid loss: 0.721 | Valid Cor: 0.5216356752299178\n",
      "Epoch 21 | Train loss: 0.560 | Train Cor: 0.632 | Valid loss: 0.727 | Valid Cor: 0.5208846140288879\n",
      "Epoch 22 | Train loss: 0.558 | Train Cor: 0.634 | Valid loss: 0.727 | Valid Cor: 0.5240291864642624\n",
      "Epoch 23 | Train loss: 0.563 | Train Cor: 0.629 | Valid loss: 0.734 | Valid Cor: 0.5187072561772613\n",
      "Epoch 24 | Train loss: 0.542 | Train Cor: 0.647 | Valid loss: 0.728 | Valid Cor: 0.5206160224713008\n",
      "Epoch 25 | Train loss: 0.562 | Train Cor: 0.632 | Valid loss: 0.736 | Valid Cor: 0.5143285631842536\n",
      "Epoch 26 | Train loss: 0.566 | Train Cor: 0.628 | Valid loss: 0.733 | Valid Cor: 0.526479677158195\n",
      "Epoch 27 | Train loss: 0.547 | Train Cor: 0.643 | Valid loss: 0.733 | Valid Cor: 0.5208231056863797\n",
      "Epoch 28 | Train loss: 0.543 | Train Cor: 0.647 | Valid loss: 0.732 | Valid Cor: 0.5177805360405676\n",
      "Epoch 29 | Train loss: 0.540 | Train Cor: 0.649 | Valid loss: 0.733 | Valid Cor: 0.5215286137731403\n",
      "Epoch 30 | Train loss: 0.555 | Train Cor: 0.637 | Valid loss: 0.726 | Valid Cor: 0.5274670822955808\n"
     ]
    }
   ],
   "source": [
    "# net = EEGNet().to(device)\n",
    "# net = EEGNetRegressor(4).to(device)\n",
    "# net = EEGNet(n_classes=4, channels=62, samples=3000).to(device) #.cuda(0)\n",
    "net = FingerRegressor(R_train.shape[1], 4).to(device)\n",
    "#print (net.forward(Variable(torch.Tensor(np.random.rand(1, 1, 120, 64)))))#.cuda(0))))\n",
    "criterion = nn.MSELoss()\n",
    "optimizer = optim.Adam(net.parameters(), lr=0.001)\n",
    "\n",
    "\n",
    "for epoch in range(30):  # loop over the dataset multiple times\n",
    "    net.train()\n",
    "    running_loss = 0.0\n",
    "    correct = 0\n",
    "    total = 0\n",
    "    pred = []\n",
    "    for (i, (ecog, dg)) in enumerate(train_loader):\n",
    "        # print(ecog.shape)\n",
    "        ecog = ecog.to(device)\n",
    "        dg = dg.to(device)\n",
    "        output = net(ecog)\n",
    "        pred += [output.detach().cpu().numpy()]\n",
    "        loss = criterion(output, dg)\n",
    "        # print (loss)\n",
    "        optimizer.zero_grad()\n",
    "        loss.backward()\n",
    "        optimizer.step()\n",
    "        running_loss += loss.item()\n",
    "\n",
    "    pred = np.concatenate(pred)\n",
    "    train_cor = correlation_dl(sig.resample(pred, len(data_glove_1_train)), data_glove_1_train)[1]\n",
    "    train_loss = running_loss / len(train_loader)\n",
    "    # train_acc = correct / total\n",
    "    \n",
    "    net.eval()\n",
    "    with torch.no_grad():\n",
    "        running_loss = 0.0\n",
    "        correct = 0\n",
    "        total = 0\n",
    "        pred = []\n",
    "        for (i, (ecog, dg)) in enumerate(test_loader):\n",
    "            ecog = ecog.to(device)\n",
    "            dg = dg.to(device)\n",
    "            output = net(ecog).to(device)\n",
    "            pred += [output.detach().cpu().numpy()]\n",
    "            loss = criterion(output, dg)\n",
    "            running_loss += loss.item()\n",
    "\n",
    "        pred = np.concatenate(pred)\n",
    "        val_cor = correlation_dl(sig.resample(pred, len(dg_1_valid)), dg_1_valid)[1]\n",
    "        \n",
    "        valid_loss = running_loss / len(test_loader)\n",
    "    # print(f'Epoch {epoch + 1} | Train loss: {train_loss:.3f} | Train Acc: {train_acc:.3f} | Valid loss: {valid_loss:.3f} | Valid Acc: {val_cor}')\n",
    "    print(f'Epoch {epoch + 1} | Train loss: {train_loss:.3f} | Train Cor: {train_cor:.3f} | Valid loss: {valid_loss:.3f} | Valid Cor: {val_cor}')\n",
    "    # break"
   ]
  },
  {
   "cell_type": "code",
   "execution_count": 10,
   "metadata": {},
   "outputs": [],
   "source": [
    "np.save('./models/train_mean_S1', train_mean_S1)\n",
    "np.save('./models/train_std_S1', train_std_S1)\n",
    "torch.save(net.state_dict(), './models/NN_S1.pth')"
   ]
  },
  {
   "cell_type": "code",
   "execution_count": 11,
   "metadata": {},
   "outputs": [
    {
     "name": "stderr",
     "output_type": "stream",
     "text": [
      "/opt/conda/envs/pytorch/lib/python3.9/site-packages/scipy/signal/_spectral_py.py:2014: UserWarning: nperseg = 256 is greater than input length  = 48, using nperseg = 48\n",
      "  warnings.warn('nperseg = {0:d} is greater than input length '\n",
      "/opt/conda/envs/pytorch/lib/python3.9/site-packages/sklearn/feature_selection/_univariate_selection.py:289: RuntimeWarning: divide by zero encountered in divide\n",
      "  correlation_coefficient /= X_norms\n",
      "/opt/conda/envs/pytorch/lib/python3.9/site-packages/sklearn/feature_selection/_univariate_selection.py:289: RuntimeWarning: invalid value encountered in divide\n",
      "  correlation_coefficient /= X_norms\n",
      "/opt/conda/envs/pytorch/lib/python3.9/site-packages/sklearn/feature_selection/_univariate_selection.py:358: RuntimeWarning: invalid value encountered in divide\n",
      "  f_statistic = corr_coef_squared / (1 - corr_coef_squared) * deg_of_freedom\n",
      "/opt/conda/envs/pytorch/lib/python3.9/site-packages/sklearn/feature_selection/_univariate_selection.py:289: RuntimeWarning: divide by zero encountered in divide\n",
      "  correlation_coefficient /= X_norms\n",
      "/opt/conda/envs/pytorch/lib/python3.9/site-packages/sklearn/feature_selection/_univariate_selection.py:289: RuntimeWarning: invalid value encountered in divide\n",
      "  correlation_coefficient /= X_norms\n",
      "/opt/conda/envs/pytorch/lib/python3.9/site-packages/sklearn/feature_selection/_univariate_selection.py:358: RuntimeWarning: invalid value encountered in divide\n",
      "  f_statistic = corr_coef_squared / (1 - corr_coef_squared) * deg_of_freedom\n",
      "/opt/conda/envs/pytorch/lib/python3.9/site-packages/sklearn/feature_selection/_univariate_selection.py:289: RuntimeWarning: divide by zero encountered in divide\n",
      "  correlation_coefficient /= X_norms\n",
      "/opt/conda/envs/pytorch/lib/python3.9/site-packages/sklearn/feature_selection/_univariate_selection.py:289: RuntimeWarning: invalid value encountered in divide\n",
      "  correlation_coefficient /= X_norms\n",
      "/opt/conda/envs/pytorch/lib/python3.9/site-packages/sklearn/feature_selection/_univariate_selection.py:358: RuntimeWarning: invalid value encountered in divide\n",
      "  f_statistic = corr_coef_squared / (1 - corr_coef_squared) * deg_of_freedom\n"
     ]
    },
    {
     "name": "stdout",
     "output_type": "stream",
     "text": [
      "(549,)\n"
     ]
    },
    {
     "name": "stderr",
     "output_type": "stream",
     "text": [
      "/opt/conda/envs/pytorch/lib/python3.9/site-packages/sklearn/feature_selection/_univariate_selection.py:289: RuntimeWarning: divide by zero encountered in divide\n",
      "  correlation_coefficient /= X_norms\n",
      "/opt/conda/envs/pytorch/lib/python3.9/site-packages/sklearn/feature_selection/_univariate_selection.py:289: RuntimeWarning: invalid value encountered in divide\n",
      "  correlation_coefficient /= X_norms\n",
      "/opt/conda/envs/pytorch/lib/python3.9/site-packages/sklearn/feature_selection/_univariate_selection.py:358: RuntimeWarning: invalid value encountered in divide\n",
      "  f_statistic = corr_coef_squared / (1 - corr_coef_squared) * deg_of_freedom\n"
     ]
    }
   ],
   "source": [
    "# Compute the R matrix for the training data\n",
    "feature_train = get_windowed_feats(ecog_2_train, 1000, winLen, winOverlap)\n",
    "# R_train = create_R_matrix(feature_train, 5)\n",
    "\n",
    "feature_test = get_windowed_feats(ecog_2_valid, 1000, winLen, winOverlap)\n",
    "# R_test = create_R_matrix(feature_test, 5)\n",
    "\n",
    "# Downsample the glove data\n",
    "Y_train = data_glove_2_train\n",
    "Y_test = dg_2_valid\n",
    "Y_train = sig.resample(Y_train, feature_train.shape[0], axis=0)\n",
    "Y_test = sig.resample(Y_test, feature_test.shape[0], axis=0)\n",
    "\n",
    "R_train = create_R_matrix(feature_train, 20)\n",
    "R_test = create_R_matrix(feature_test, 20)\n",
    "\n",
    "idx_2 = feature_selection(R_train, Y_train, 800)\n",
    "print(idx_2.shape)\n",
    "\n",
    "R_train = R_train[:, idx_2]\n",
    "train_mean_S2 = R_train.mean(axis=0)\n",
    "train_std_S2 = R_train.std(axis=0)\n",
    "R_train = (R_train - train_mean_S2) / train_std_S2\n",
    "R_test = R_test[:, idx_2]\n",
    "R_test = (R_test - train_mean_S2) / train_std_S2"
   ]
  },
  {
   "cell_type": "code",
   "execution_count": 12,
   "metadata": {},
   "outputs": [],
   "source": [
    "dataset_s2_train = FingerFeatureDataset(R_train.copy(), Y_train.copy())\n",
    "dataset_s2_valid = FingerFeatureDataset(R_test.copy(), Y_test.copy())\n",
    "\n",
    "train_loader = DataLoader(dataset_s2_train, batch_size=16, shuffle=False)\n",
    "test_loader = DataLoader(dataset_s2_valid, batch_size=16, shuffle=False)"
   ]
  },
  {
   "cell_type": "code",
   "execution_count": 13,
   "metadata": {},
   "outputs": [
    {
     "name": "stdout",
     "output_type": "stream",
     "text": [
      "Epoch 1 | Train loss: 1.474 | Train Cor: 0.117 | Valid loss: 0.892 | Valid Cor: 0.23244178120307735\n",
      "Epoch 2 | Train loss: 0.934 | Train Cor: 0.285 | Valid loss: 0.778 | Valid Cor: 0.3450786805431242\n",
      "Epoch 3 | Train loss: 0.806 | Train Cor: 0.379 | Valid loss: 0.762 | Valid Cor: 0.3759352957484666\n",
      "Epoch 4 | Train loss: 0.745 | Train Cor: 0.434 | Valid loss: 0.739 | Valid Cor: 0.39512296683446324\n",
      "Epoch 5 | Train loss: 0.699 | Train Cor: 0.478 | Valid loss: 0.723 | Valid Cor: 0.4161898345172114\n",
      "Epoch 6 | Train loss: 0.670 | Train Cor: 0.507 | Valid loss: 0.709 | Valid Cor: 0.4298201909435042\n",
      "Epoch 7 | Train loss: 0.657 | Train Cor: 0.520 | Valid loss: 0.709 | Valid Cor: 0.43149026873834256\n",
      "Epoch 8 | Train loss: 0.640 | Train Cor: 0.541 | Valid loss: 0.704 | Valid Cor: 0.4353458414071739\n",
      "Epoch 9 | Train loss: 0.640 | Train Cor: 0.540 | Valid loss: 0.712 | Valid Cor: 0.42519615858362203\n",
      "Epoch 10 | Train loss: 0.613 | Train Cor: 0.568 | Valid loss: 0.709 | Valid Cor: 0.4348955291865023\n",
      "Epoch 11 | Train loss: 0.617 | Train Cor: 0.564 | Valid loss: 0.700 | Valid Cor: 0.4409110802586558\n",
      "Epoch 12 | Train loss: 0.607 | Train Cor: 0.569 | Valid loss: 0.701 | Valid Cor: 0.43846866575935745\n",
      "Epoch 13 | Train loss: 0.599 | Train Cor: 0.579 | Valid loss: 0.705 | Valid Cor: 0.4404342106941698\n",
      "Epoch 14 | Train loss: 0.602 | Train Cor: 0.579 | Valid loss: 0.710 | Valid Cor: 0.4348695294142284\n",
      "Epoch 15 | Train loss: 0.592 | Train Cor: 0.586 | Valid loss: 0.706 | Valid Cor: 0.4403855030120868\n",
      "Epoch 16 | Train loss: 0.595 | Train Cor: 0.585 | Valid loss: 0.712 | Valid Cor: 0.4402083788807787\n",
      "Epoch 17 | Train loss: 0.596 | Train Cor: 0.582 | Valid loss: 0.700 | Valid Cor: 0.4427881953768659\n",
      "Epoch 18 | Train loss: 0.570 | Train Cor: 0.608 | Valid loss: 0.704 | Valid Cor: 0.44175522128507283\n",
      "Epoch 19 | Train loss: 0.577 | Train Cor: 0.602 | Valid loss: 0.712 | Valid Cor: 0.43846549741237817\n",
      "Epoch 20 | Train loss: 0.572 | Train Cor: 0.605 | Valid loss: 0.707 | Valid Cor: 0.43798439504941955\n",
      "Epoch 21 | Train loss: 0.571 | Train Cor: 0.607 | Valid loss: 0.705 | Valid Cor: 0.4474305717328341\n",
      "Epoch 22 | Train loss: 0.561 | Train Cor: 0.617 | Valid loss: 0.715 | Valid Cor: 0.4408634183633444\n",
      "Epoch 23 | Train loss: 0.577 | Train Cor: 0.598 | Valid loss: 0.709 | Valid Cor: 0.4503889116896501\n",
      "Epoch 24 | Train loss: 0.574 | Train Cor: 0.605 | Valid loss: 0.708 | Valid Cor: 0.44849843095978315\n",
      "Epoch 25 | Train loss: 0.568 | Train Cor: 0.608 | Valid loss: 0.710 | Valid Cor: 0.448510945202618\n",
      "Epoch 26 | Train loss: 0.545 | Train Cor: 0.630 | Valid loss: 0.704 | Valid Cor: 0.44551466088498637\n",
      "Epoch 27 | Train loss: 0.555 | Train Cor: 0.622 | Valid loss: 0.718 | Valid Cor: 0.4480295683685311\n",
      "Epoch 28 | Train loss: 0.572 | Train Cor: 0.606 | Valid loss: 0.720 | Valid Cor: 0.43684249488179716\n",
      "Epoch 29 | Train loss: 0.548 | Train Cor: 0.626 | Valid loss: 0.708 | Valid Cor: 0.4491636963158175\n",
      "Epoch 30 | Train loss: 0.559 | Train Cor: 0.615 | Valid loss: 0.715 | Valid Cor: 0.44337541680045134\n"
     ]
    }
   ],
   "source": [
    "# net = EEGNet().to(device)\n",
    "# net = EEGNetRegressor(4).to(device)\n",
    "# net = EEGNet(n_classes=4, channels=62, samples=3000).to(device) #.cuda(0)\n",
    "net = FingerRegressor(R_train.shape[1], 4).to(device)\n",
    "#print (net.forward(Variable(torch.Tensor(np.random.rand(1, 1, 120, 64)))))#.cuda(0))))\n",
    "criterion = nn.MSELoss()\n",
    "optimizer = optim.Adam(net.parameters(), lr=0.001)\n",
    "\n",
    "\n",
    "for epoch in range(30):  # loop over the dataset multiple times\n",
    "    net.train()\n",
    "    running_loss = 0.0\n",
    "    correct = 0\n",
    "    total = 0\n",
    "    pred = []\n",
    "    for (i, (ecog, dg)) in enumerate(train_loader):\n",
    "        # print(ecog.shape)\n",
    "        ecog = ecog.to(device)\n",
    "        dg = dg.to(device)\n",
    "        output = net(ecog)\n",
    "        pred += [output.detach().cpu().numpy()]\n",
    "        loss = criterion(output, dg)\n",
    "        # print (loss)\n",
    "        optimizer.zero_grad()\n",
    "        loss.backward()\n",
    "        optimizer.step()\n",
    "        running_loss += loss.item()\n",
    "\n",
    "    pred = np.concatenate(pred)\n",
    "    train_cor = correlation_dl(sig.resample(pred, len(data_glove_2_train)), data_glove_2_train)[1]\n",
    "    train_loss = running_loss / len(train_loader)\n",
    "    # train_acc = correct / total\n",
    "    \n",
    "    net.eval()\n",
    "    with torch.no_grad():\n",
    "        running_loss = 0.0\n",
    "        correct = 0\n",
    "        total = 0\n",
    "        pred = []\n",
    "        for (i, (ecog, dg)) in enumerate(test_loader):\n",
    "            ecog = ecog.to(device)\n",
    "            dg = dg.to(device)\n",
    "            output = net(ecog).to(device)\n",
    "            pred += [output.detach().cpu().numpy()]\n",
    "            loss = criterion(output, dg)\n",
    "            running_loss += loss.item()\n",
    "\n",
    "        pred = np.concatenate(pred)\n",
    "        val_cor = correlation_dl(sig.resample(pred, len(dg_2_valid)), dg_2_valid)[1]\n",
    "        \n",
    "        valid_loss = running_loss / len(test_loader)\n",
    "    # print(f'Epoch {epoch + 1} | Train loss: {train_loss:.3f} | Train Acc: {train_acc:.3f} | Valid loss: {valid_loss:.3f} | Valid Acc: {val_cor}')\n",
    "    print(f'Epoch {epoch + 1} | Train loss: {train_loss:.3f} | Train Cor: {train_cor:.3f} | Valid loss: {valid_loss:.3f} | Valid Cor: {val_cor}')\n",
    "    # break"
   ]
  },
  {
   "cell_type": "code",
   "execution_count": 14,
   "metadata": {},
   "outputs": [],
   "source": [
    "np.save('./models/train_mean_S2', train_mean_S2)\n",
    "np.save('./models/train_std_S2', train_std_S2)\n",
    "torch.save(net.state_dict(), './models/NN_S2.pth')"
   ]
  },
  {
   "cell_type": "code",
   "execution_count": 24,
   "metadata": {},
   "outputs": [
    {
     "name": "stderr",
     "output_type": "stream",
     "text": [
      "/opt/conda/envs/pytorch/lib/python3.9/site-packages/sklearn/feature_selection/_univariate_selection.py:289: RuntimeWarning: divide by zero encountered in divide\n",
      "  correlation_coefficient /= X_norms\n",
      "/opt/conda/envs/pytorch/lib/python3.9/site-packages/sklearn/feature_selection/_univariate_selection.py:289: RuntimeWarning: invalid value encountered in divide\n",
      "  correlation_coefficient /= X_norms\n",
      "/opt/conda/envs/pytorch/lib/python3.9/site-packages/sklearn/feature_selection/_univariate_selection.py:358: RuntimeWarning: invalid value encountered in divide\n",
      "  f_statistic = corr_coef_squared / (1 - corr_coef_squared) * deg_of_freedom\n",
      "/opt/conda/envs/pytorch/lib/python3.9/site-packages/sklearn/feature_selection/_univariate_selection.py:289: RuntimeWarning: divide by zero encountered in divide\n",
      "  correlation_coefficient /= X_norms\n",
      "/opt/conda/envs/pytorch/lib/python3.9/site-packages/sklearn/feature_selection/_univariate_selection.py:289: RuntimeWarning: invalid value encountered in divide\n",
      "  correlation_coefficient /= X_norms\n",
      "/opt/conda/envs/pytorch/lib/python3.9/site-packages/sklearn/feature_selection/_univariate_selection.py:358: RuntimeWarning: invalid value encountered in divide\n",
      "  f_statistic = corr_coef_squared / (1 - corr_coef_squared) * deg_of_freedom\n",
      "/opt/conda/envs/pytorch/lib/python3.9/site-packages/sklearn/feature_selection/_univariate_selection.py:289: RuntimeWarning: divide by zero encountered in divide\n",
      "  correlation_coefficient /= X_norms\n",
      "/opt/conda/envs/pytorch/lib/python3.9/site-packages/sklearn/feature_selection/_univariate_selection.py:289: RuntimeWarning: invalid value encountered in divide\n",
      "  correlation_coefficient /= X_norms\n",
      "/opt/conda/envs/pytorch/lib/python3.9/site-packages/sklearn/feature_selection/_univariate_selection.py:358: RuntimeWarning: invalid value encountered in divide\n",
      "  f_statistic = corr_coef_squared / (1 - corr_coef_squared) * deg_of_freedom\n"
     ]
    },
    {
     "name": "stdout",
     "output_type": "stream",
     "text": [
      "(599,)\n"
     ]
    },
    {
     "name": "stderr",
     "output_type": "stream",
     "text": [
      "/opt/conda/envs/pytorch/lib/python3.9/site-packages/sklearn/feature_selection/_univariate_selection.py:289: RuntimeWarning: divide by zero encountered in divide\n",
      "  correlation_coefficient /= X_norms\n",
      "/opt/conda/envs/pytorch/lib/python3.9/site-packages/sklearn/feature_selection/_univariate_selection.py:289: RuntimeWarning: invalid value encountered in divide\n",
      "  correlation_coefficient /= X_norms\n",
      "/opt/conda/envs/pytorch/lib/python3.9/site-packages/sklearn/feature_selection/_univariate_selection.py:358: RuntimeWarning: invalid value encountered in divide\n",
      "  f_statistic = corr_coef_squared / (1 - corr_coef_squared) * deg_of_freedom\n"
     ]
    }
   ],
   "source": [
    "# Compute the R matrix for the training data\n",
    "feature_train = get_windowed_feats(ecog_3_train, 1000, winLen, winOverlap)\n",
    "# R_train = create_R_matrix(feature_train, 5)\n",
    "\n",
    "feature_test = get_windowed_feats(ecog_3_valid, 1000, winLen, winOverlap)\n",
    "# R_test = create_R_matrix(feature_test, 5)\n",
    "\n",
    "# Downsample the glove data\n",
    "Y_train = data_glove_3_train\n",
    "Y_test = dg_3_valid\n",
    "Y_train = sig.resample(Y_train, feature_train.shape[0], axis=0)\n",
    "Y_test = sig.resample(Y_test, feature_test.shape[0], axis=0)\n",
    "\n",
    "R_train = create_R_matrix(feature_train, 20)\n",
    "R_test = create_R_matrix(feature_test, 20)\n",
    "\n",
    "idx_3 = feature_selection(R_train, Y_train, 800)\n",
    "print(idx_3.shape)\n",
    "\n",
    "R_train = R_train[:, idx_3]\n",
    "train_mean_S3 = R_train.mean(axis=0)\n",
    "train_std_S3 = R_train.std(axis=0)\n",
    "R_train = (R_train - train_mean_S3) / train_std_S3\n",
    "R_test = R_test[:, idx_3]\n",
    "R_test = (R_test - train_mean_S3) / train_std_S3"
   ]
  },
  {
   "cell_type": "code",
   "execution_count": 25,
   "metadata": {},
   "outputs": [],
   "source": [
    "dataset_s3_train = FingerFeatureDataset(R_train.copy(), Y_train.copy())\n",
    "dataset_s3_valid = FingerFeatureDataset(R_test.copy(), Y_test.copy())\n",
    "\n",
    "train_loader = DataLoader(dataset_s3_train, batch_size=16, shuffle=False)\n",
    "test_loader = DataLoader(dataset_s3_valid, batch_size=16, shuffle=False)"
   ]
  },
  {
   "cell_type": "code",
   "execution_count": 30,
   "metadata": {},
   "outputs": [
    {
     "name": "stdout",
     "output_type": "stream",
     "text": [
      "Epoch 1 | Train loss: 1.843 | Train Cor: 0.214 | Valid loss: 0.780 | Valid Cor: 0.4742047644259657\n",
      "Epoch 2 | Train loss: 0.890 | Train Cor: 0.425 | Valid loss: 0.587 | Valid Cor: 0.6099291063812686\n",
      "Epoch 3 | Train loss: 0.676 | Train Cor: 0.542 | Valid loss: 0.521 | Valid Cor: 0.6562308161920822\n",
      "Epoch 4 | Train loss: 0.594 | Train Cor: 0.592 | Valid loss: 0.494 | Valid Cor: 0.6805856602358961\n",
      "Epoch 5 | Train loss: 0.541 | Train Cor: 0.633 | Valid loss: 0.484 | Valid Cor: 0.6936186958612601\n",
      "Epoch 6 | Train loss: 0.522 | Train Cor: 0.649 | Valid loss: 0.472 | Valid Cor: 0.7024294078651458\n",
      "Epoch 7 | Train loss: 0.497 | Train Cor: 0.669 | Valid loss: 0.481 | Valid Cor: 0.6982449924146503\n",
      "Epoch 8 | Train loss: 0.484 | Train Cor: 0.679 | Valid loss: 0.473 | Valid Cor: 0.7053942083263373\n",
      "Epoch 9 | Train loss: 0.464 | Train Cor: 0.693 | Valid loss: 0.461 | Valid Cor: 0.7102316568755848\n",
      "Epoch 10 | Train loss: 0.455 | Train Cor: 0.701 | Valid loss: 0.468 | Valid Cor: 0.7076033903443314\n",
      "Epoch 11 | Train loss: 0.443 | Train Cor: 0.711 | Valid loss: 0.470 | Valid Cor: 0.7096553566153474\n",
      "Epoch 12 | Train loss: 0.438 | Train Cor: 0.714 | Valid loss: 0.468 | Valid Cor: 0.7129264547010179\n",
      "Epoch 13 | Train loss: 0.433 | Train Cor: 0.718 | Valid loss: 0.456 | Valid Cor: 0.7175130115809181\n",
      "Epoch 14 | Train loss: 0.429 | Train Cor: 0.721 | Valid loss: 0.459 | Valid Cor: 0.7197663260984491\n",
      "Epoch 15 | Train loss: 0.424 | Train Cor: 0.724 | Valid loss: 0.455 | Valid Cor: 0.7204504538748684\n",
      "Epoch 16 | Train loss: 0.432 | Train Cor: 0.719 | Valid loss: 0.447 | Valid Cor: 0.7260208084304806\n",
      "Epoch 17 | Train loss: 0.424 | Train Cor: 0.724 | Valid loss: 0.452 | Valid Cor: 0.7221780917091797\n",
      "Epoch 18 | Train loss: 0.425 | Train Cor: 0.724 | Valid loss: 0.445 | Valid Cor: 0.723406630113599\n",
      "Epoch 19 | Train loss: 0.413 | Train Cor: 0.734 | Valid loss: 0.442 | Valid Cor: 0.7266055686495361\n",
      "Epoch 20 | Train loss: 0.412 | Train Cor: 0.734 | Valid loss: 0.451 | Valid Cor: 0.720075267966893\n",
      "Epoch 21 | Train loss: 0.414 | Train Cor: 0.732 | Valid loss: 0.454 | Valid Cor: 0.7202551963982573\n",
      "Epoch 22 | Train loss: 0.414 | Train Cor: 0.733 | Valid loss: 0.458 | Valid Cor: 0.7176052669072452\n",
      "Epoch 23 | Train loss: 0.409 | Train Cor: 0.736 | Valid loss: 0.460 | Valid Cor: 0.7184887156301314\n",
      "Epoch 24 | Train loss: 0.411 | Train Cor: 0.735 | Valid loss: 0.458 | Valid Cor: 0.720088805913035\n",
      "Epoch 25 | Train loss: 0.409 | Train Cor: 0.736 | Valid loss: 0.457 | Valid Cor: 0.7187093998071876\n",
      "Epoch 26 | Train loss: 0.410 | Train Cor: 0.735 | Valid loss: 0.446 | Valid Cor: 0.7242603924127233\n",
      "Epoch 27 | Train loss: 0.415 | Train Cor: 0.731 | Valid loss: 0.456 | Valid Cor: 0.7191961210301698\n",
      "Epoch 28 | Train loss: 0.408 | Train Cor: 0.737 | Valid loss: 0.461 | Valid Cor: 0.7168390009125456\n",
      "Epoch 29 | Train loss: 0.408 | Train Cor: 0.738 | Valid loss: 0.443 | Valid Cor: 0.7248437401126131\n",
      "Epoch 30 | Train loss: 0.402 | Train Cor: 0.741 | Valid loss: 0.460 | Valid Cor: 0.7160454624835776\n"
     ]
    }
   ],
   "source": [
    "# net = EEGNet().to(device)\n",
    "# net = EEGNetRegressor(4).to(device)\n",
    "# net = EEGNet(n_classes=4, channels=62, samples=3000).to(device) #.cuda(0)\n",
    "net = FingerRegressor(R_train.shape[1], 4).to(device)\n",
    "#print (net.forward(Variable(torch.Tensor(np.random.rand(1, 1, 120, 64)))))#.cuda(0))))\n",
    "criterion = nn.MSELoss()\n",
    "optimizer = optim.Adam(net.parameters(), lr=0.001)\n",
    "\n",
    "\n",
    "for epoch in range(30):  # loop over the dataset multiple times\n",
    "    net.train()\n",
    "    running_loss = 0.0\n",
    "    correct = 0\n",
    "    total = 0\n",
    "    pred = []\n",
    "    for (i, (ecog, dg)) in enumerate(train_loader):\n",
    "        # print(ecog.shape)\n",
    "        ecog = ecog.to(device)\n",
    "        dg = dg.to(device)\n",
    "        output = net(ecog)\n",
    "        pred += [output.detach().cpu().numpy()]\n",
    "        loss = criterion(output, dg)\n",
    "        # print (loss)\n",
    "        optimizer.zero_grad()\n",
    "        loss.backward()\n",
    "        optimizer.step()\n",
    "        running_loss += loss.item()\n",
    "\n",
    "    pred = np.concatenate(pred)\n",
    "    train_cor = correlation_dl(sig.resample(pred, len(data_glove_3_train)), data_glove_3_train)[1]\n",
    "    train_loss = running_loss / len(train_loader)\n",
    "    # train_acc = correct / total\n",
    "    \n",
    "    net.eval()\n",
    "    with torch.no_grad():\n",
    "        running_loss = 0.0\n",
    "        correct = 0\n",
    "        total = 0\n",
    "        pred = []\n",
    "        for (i, (ecog, dg)) in enumerate(test_loader):\n",
    "            ecog = ecog.to(device)\n",
    "            dg = dg.to(device)\n",
    "            output = net(ecog).to(device)\n",
    "            pred += [output.detach().cpu().numpy()]\n",
    "            loss = criterion(output, dg)\n",
    "            running_loss += loss.item()\n",
    "\n",
    "        pred = np.concatenate(pred)\n",
    "        val_cor = correlation_dl(sig.resample(pred, len(dg_3_valid)), dg_3_valid)[1]\n",
    "        \n",
    "        valid_loss = running_loss / len(test_loader)\n",
    "    # print(f'Epoch {epoch + 1} | Train loss: {train_loss:.3f} | Train Acc: {train_acc:.3f} | Valid loss: {valid_loss:.3f} | Valid Acc: {val_cor}')\n",
    "    print(f'Epoch {epoch + 1} | Train loss: {train_loss:.3f} | Train Cor: {train_cor:.3f} | Valid loss: {valid_loss:.3f} | Valid Cor: {val_cor}')\n",
    "    # break"
   ]
  },
  {
   "cell_type": "code",
   "execution_count": 27,
   "metadata": {},
   "outputs": [],
   "source": [
    "np.save('./models/train_mean_S3', train_mean_S3)\n",
    "np.save('./models/train_std_S3', train_std_S3)\n",
    "torch.save(net.state_dict(), './models/NN_S3.pth')"
   ]
  },
  {
   "cell_type": "code",
   "execution_count": 18,
   "metadata": {},
   "outputs": [
    {
     "name": "stderr",
     "output_type": "stream",
     "text": [
      "/opt/conda/envs/pytorch/lib/python3.9/site-packages/scipy/signal/_spectral_py.py:2014: UserWarning: nperseg = 256 is greater than input length  = 62, using nperseg = 62\n",
      "  warnings.warn('nperseg = {0:d} is greater than input length '\n",
      "/opt/conda/envs/pytorch/lib/python3.9/site-packages/scipy/signal/_spectral_py.py:2014: UserWarning: nperseg = 256 is greater than input length  = 48, using nperseg = 48\n",
      "  warnings.warn('nperseg = {0:d} is greater than input length '\n",
      "/opt/conda/envs/pytorch/lib/python3.9/site-packages/scipy/signal/_spectral_py.py:2014: UserWarning: nperseg = 256 is greater than input length  = 64, using nperseg = 64\n",
      "  warnings.warn('nperseg = {0:d} is greater than input length '\n"
     ]
    }
   ],
   "source": [
    "ecog_1_leaderboard = ecog_1_comp[500: 500 + 147500]\n",
    "dg_1_leaderboard = dg_1_comp[500: 500 + 147500]\n",
    "\n",
    "ecog_2_leaderboard = ecog_2_comp[500: 500 + 147500]\n",
    "dg_2_leaderboard = dg_2_comp[500: 500 + 147500]\n",
    "\n",
    "ecog_3_leaderboard = ecog_3_comp[500: 500 + 147500]\n",
    "dg_3_leaderboard = dg_3_comp[500: 500 + 147500]\n",
    "\n",
    "winLen = 100 / 1e3\n",
    "winOverlap = 50 / 1e3\n",
    "winDisp = winLen - winOverlap\n",
    "\n",
    "\n",
    "feature_1 = get_windowed_feats(ecog_1_leaderboard, 1000, winLen, winOverlap)\n",
    "# R_1 = create_R_matrix(feature_1, 5)\n",
    "feature_2 = get_windowed_feats(ecog_2_leaderboard, 1000, winLen, winOverlap)\n",
    "# R_2 = create_R_matrix(feature_2, 5)\n",
    "feature_3 = get_windowed_feats(ecog_3_leaderboard, 1000, winLen, winOverlap)\n",
    "# R_3 = create_R_matrix(feature_3, 5)\n",
    "\n",
    "# idx_1 = np.load('./models/idx_S1.npy')\n",
    "# idx_2 = np.load('./models/idx_S2.npy')\n",
    "# idx_3 = np.load('./models/idx_S3.npy')\n",
    "\n",
    "R_1 = create_R_matrix(feature_1, 20)[:, idx_1]\n",
    "R_2 = create_R_matrix(feature_2, 20)[:, idx_2]\n",
    "R_3 = create_R_matrix(feature_3, 20)[:, idx_3]\n"
   ]
  },
  {
   "cell_type": "code",
   "execution_count": 32,
   "metadata": {},
   "outputs": [],
   "source": [
    "train_mean_S1 = np.load('./models/train_mean_S1.npy')\n",
    "train_std_S1 = np.load('./models/train_std_S1.npy')\n",
    "\n",
    "train_mean_S2 = np.load('./models/train_mean_S2.npy')\n",
    "train_std_S2 = np.load('./models/train_std_S2.npy')\n",
    "\n",
    "train_mean_S3 = np.load('./models/train_mean_S3.npy')\n",
    "train_std_S3 = np.load('./models/train_std_S3.npy')"
   ]
  },
  {
   "cell_type": "code",
   "execution_count": 33,
   "metadata": {},
   "outputs": [
    {
     "data": {
      "text/plain": [
       "0.5518909352481967"
      ]
     },
     "execution_count": 33,
     "metadata": {},
     "output_type": "execute_result"
    }
   ],
   "source": [
    "leaderboard_dataset = FingerFeatureDataset((R_1 - train_mean_S1) / train_std_S1, np.zeros(R_1.shape[0]).copy())\n",
    "dataloader = DataLoader(leaderboard_dataset, batch_size=16, shuffle=False)\n",
    "\n",
    "net = FingerRegressor(R_1.shape[1], 4).to(device)\n",
    "net.load_state_dict(torch.load('./models/NN_S1.pth'))\n",
    "\n",
    "with torch.no_grad():\n",
    "    pred = []\n",
    "    net.eval()\n",
    "    for i, (ecog, dg) in enumerate(dataloader):\n",
    "        ecog = ecog.to(device)\n",
    "        dg = dg.to(device)\n",
    "        output = net(ecog).to(device)\n",
    "        pred += [output.detach().cpu().numpy()]\n",
    "\n",
    "    pred = np.concatenate(pred)\n",
    "correlation_dl(sig.resample(pred, len(dg_1_leaderboard)), dg_1_leaderboard)[1]"
   ]
  },
  {
   "cell_type": "code",
   "execution_count": 34,
   "metadata": {},
   "outputs": [
    {
     "data": {
      "text/plain": [
       "0.5459568020779081"
      ]
     },
     "execution_count": 34,
     "metadata": {},
     "output_type": "execute_result"
    }
   ],
   "source": [
    "leaderboard_dataset = FingerFeatureDataset((R_2 - train_mean_S2) / train_std_S2, np.zeros(R_2.shape[0]).copy())\n",
    "dataloader = DataLoader(leaderboard_dataset, batch_size=16, shuffle=False)\n",
    "\n",
    "net = FingerRegressor(R_2.shape[1], 4).to(device)\n",
    "net.load_state_dict(torch.load('./models/NN_S2.pth'))\n",
    "\n",
    "with torch.no_grad():\n",
    "    pred = []\n",
    "    net.eval()\n",
    "    for i, (ecog, dg) in enumerate(dataloader):\n",
    "        ecog = ecog.to(device)\n",
    "        dg = dg.to(device)\n",
    "        output = net(ecog).to(device)\n",
    "        pred += [output.detach().cpu().numpy()]\n",
    "\n",
    "    pred = np.concatenate(pred)\n",
    "correlation_dl(sig.resample(pred, len(dg_2_leaderboard)), dg_2_leaderboard)[1]"
   ]
  },
  {
   "cell_type": "code",
   "execution_count": 35,
   "metadata": {},
   "outputs": [
    {
     "data": {
      "text/plain": [
       "0.6755967095005215"
      ]
     },
     "execution_count": 35,
     "metadata": {},
     "output_type": "execute_result"
    }
   ],
   "source": [
    "leaderboard_dataset = FingerFeatureDataset((R_3 - train_mean_S3) / train_std_S3, np.zeros(R_3.shape[0]).copy())\n",
    "dataloader = DataLoader(leaderboard_dataset, batch_size=16, shuffle=False)\n",
    "\n",
    "net = FingerRegressor(R_3.shape[1], 4).to(device)\n",
    "net.load_state_dict(torch.load('./models/NN_S3.pth'))\n",
    "\n",
    "with torch.no_grad():\n",
    "    pred = []\n",
    "    net.eval()\n",
    "    for i, (ecog, dg) in enumerate(dataloader):\n",
    "        ecog = ecog.to(device)\n",
    "        dg = dg.to(device)\n",
    "        output = net(ecog).to(device)\n",
    "        pred += [output.detach().cpu().numpy()]\n",
    "\n",
    "    pred = np.concatenate(pred)\n",
    "correlation_dl(sig.resample(pred, len(dg_3_leaderboard)), dg_3_leaderboard)[1]"
   ]
  },
  {
   "cell_type": "code",
   "execution_count": null,
   "metadata": {},
   "outputs": [],
   "source": []
  },
  {
   "cell_type": "code",
   "execution_count": null,
   "metadata": {},
   "outputs": [],
   "source": []
  }
 ],
 "metadata": {
  "kernelspec": {
   "display_name": "Python 3 (ipykernel)",
   "language": "python",
   "name": "python3"
  },
  "language_info": {
   "codemirror_mode": {
    "name": "ipython",
    "version": 3
   },
   "file_extension": ".py",
   "mimetype": "text/x-python",
   "name": "python",
   "nbconvert_exporter": "python",
   "pygments_lexer": "ipython3",
   "version": "3.9.16"
  }
 },
 "nbformat": 4,
 "nbformat_minor": 2
}
